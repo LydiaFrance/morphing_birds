{
 "cells": [
  {
   "cell_type": "code",
   "execution_count": 1,
   "metadata": {},
   "outputs": [],
   "source": [
    "%matplotlib widget\n",
    "%config InlineBackend.figure_format='svg'\n",
    "\n",
    "\n",
    "import numpy as np\n",
    "from matplotlib import pyplot as plt\n",
    "plt.rcParams[\"animation.html\"] = \"jshtml\"\n",
    "plt.rcParams['animation.frame_format'] = 'svg'\n",
    "from sklearn.decomposition import PCA\n",
    "\n",
    "\n",
    "from morphing_birds import Hawk3D, PCAFigures\n",
    "\n",
    "\n",
    "hawk3d = Hawk3D(\"../data/mean_hawk_shape.csv\")"
   ]
  },
  {
   "cell_type": "code",
   "execution_count": 2,
   "metadata": {},
   "outputs": [
    {
     "name": "stdout",
     "output_type": "stream",
     "text": [
      "Horizontal translation applied.\n"
     ]
    },
    {
     "data": {
      "application/vnd.jupyter.widget-view+json": {
       "model_id": "1204017181314e7c86b9a76e914cc3ab",
       "version_major": 2,
       "version_minor": 0
      },
      "text/plain": [
       "IntSlider(value=60, description='azimuth', max=90, min=-90, step=5)"
      ]
     },
     "metadata": {},
     "output_type": "display_data"
    },
    {
     "data": {
      "application/vnd.jupyter.widget-view+json": {
       "model_id": "68e128ef08984332afe8f1245222b6d4",
       "version_major": 2,
       "version_minor": 0
      },
      "text/plain": [
       "IntSlider(value=20, description='elevation', max=90, min=-15, step=5)"
      ]
     },
     "metadata": {},
     "output_type": "display_data"
    },
    {
     "data": {
      "application/vnd.jupyter.widget-view+json": {
       "model_id": "dbf4639c1d5e45c58866150c1f8f3163",
       "version_major": 2,
       "version_minor": 0
      },
      "text/plain": [
       "Output()"
      ]
     },
     "metadata": {},
     "output_type": "display_data"
    }
   ],
   "source": [
    "# %matplotlib notebook\n",
    "\n",
    "# hawk3d.keypoint_manager.restore_keypoints()\n",
    "hawk3d.display_hawk(horzDist=1)\n",
    "\n"
   ]
  },
  {
   "cell_type": "code",
   "execution_count": 3,
   "metadata": {},
   "outputs": [
    {
     "ename": "AttributeError",
     "evalue": "'KeypointManager' object has no attribute 'right_keypoints'",
     "output_type": "error",
     "traceback": [
      "\u001b[0;31m---------------------------------------------------------------------------\u001b[0m",
      "\u001b[0;31mAttributeError\u001b[0m                            Traceback (most recent call last)",
      "Cell \u001b[0;32mIn[3], line 1\u001b[0m\n\u001b[0;32m----> 1\u001b[0m \u001b[43mhawk3d\u001b[49m\u001b[38;5;241;43m.\u001b[39;49m\u001b[43mget_data\u001b[49m\u001b[43m(\u001b[49m\u001b[38;5;124;43m\"\u001b[39;49m\u001b[38;5;124;43m../data/full_allBirds_unilateral_markers.csv\u001b[39;49m\u001b[38;5;124;43m\"\u001b[39;49m\u001b[43m)\u001b[49m\n",
      "File \u001b[0;32m~/Library/CloudStorage/OneDrive-TheAlanTuringInstitute/002_Projects/Hawkflight/morphing_birds/src/morphing_birds/Hawk3D.py:34\u001b[0m, in \u001b[0;36mHawk3D.get_data\u001b[0;34m(self, csv_path)\u001b[0m\n\u001b[1;32m     31\u001b[0m \u001b[38;5;28mself\u001b[39m\u001b[38;5;241m.\u001b[39mmarkers \u001b[38;5;241m=\u001b[39m \u001b[38;5;28mself\u001b[39m\u001b[38;5;241m.\u001b[39mframes\u001b[38;5;241m.\u001b[39mmarkers\n\u001b[1;32m     32\u001b[0m \u001b[38;5;28mself\u001b[39m\u001b[38;5;241m.\u001b[39mhorzDist \u001b[38;5;241m=\u001b[39m \u001b[38;5;28mself\u001b[39m\u001b[38;5;241m.\u001b[39mframes\u001b[38;5;241m.\u001b[39mhorzDist\n\u001b[0;32m---> 34\u001b[0m \u001b[38;5;28mself\u001b[39m\u001b[38;5;241m.\u001b[39mPCA \u001b[38;5;241m=\u001b[39m \u001b[43mHawkPCA\u001b[49m\u001b[43m(\u001b[49m\u001b[38;5;28;43mself\u001b[39;49m\u001b[38;5;241;43m.\u001b[39;49m\u001b[43mframes\u001b[49m\u001b[43m,\u001b[49m\u001b[43m \u001b[49m\u001b[38;5;28;43mself\u001b[39;49m\u001b[38;5;241;43m.\u001b[39;49m\u001b[43mkeypoint_manager\u001b[49m\u001b[43m)\u001b[49m\n",
      "File \u001b[0;32m~/Library/CloudStorage/OneDrive-TheAlanTuringInstitute/002_Projects/Hawkflight/morphing_birds/src/morphing_birds/HawkPCA.py:18\u001b[0m, in \u001b[0;36mHawkPCA.__init__\u001b[0;34m(self, HawkData, KeypointManager)\u001b[0m\n\u001b[1;32m     16\u001b[0m \u001b[38;5;28;01mdef\u001b[39;00m \u001b[38;5;21m__init__\u001b[39m(\u001b[38;5;28mself\u001b[39m, HawkData, KeypointManager):\n\u001b[1;32m     17\u001b[0m     \u001b[38;5;28mself\u001b[39m\u001b[38;5;241m.\u001b[39mdata \u001b[38;5;241m=\u001b[39m HawkData\n\u001b[0;32m---> 18\u001b[0m     \u001b[38;5;28mself\u001b[39m\u001b[38;5;241m.\u001b[39mmu \u001b[38;5;241m=\u001b[39m \u001b[43mKeypointManager\u001b[49m\u001b[38;5;241;43m.\u001b[39;49m\u001b[43mright_keypoints\u001b[49m\n\u001b[1;32m     20\u001b[0m     \u001b[38;5;66;03m# Make the dimensions fit for PCA\u001b[39;00m\n\u001b[1;32m     21\u001b[0m     \u001b[38;5;28mself\u001b[39m\u001b[38;5;241m.\u001b[39mmu \u001b[38;5;241m=\u001b[39m \u001b[38;5;28mself\u001b[39m\u001b[38;5;241m.\u001b[39mmu\u001b[38;5;241m.\u001b[39mreshape(\u001b[38;5;241m1\u001b[39m,\u001b[38;5;241m12\u001b[39m)\n",
      "\u001b[0;31mAttributeError\u001b[0m: 'KeypointManager' object has no attribute 'right_keypoints'"
     ]
    }
   ],
   "source": [
    "hawk3d.get_data(\"../data/full_allBirds_unilateral_markers.csv\")"
   ]
  },
  {
   "cell_type": "code",
   "execution_count": null,
   "metadata": {},
   "outputs": [],
   "source": [
    "# print(hawk3d.frames.markers.shape[0])\n",
    "\n",
    "print(hawk3d.frames.frameID.shape)\n",
    "\n",
    "is_selected = hawk3d.frames.filter_by(obstacle=True, IMU = None)\n",
    "print(\"obstacle: \", sum(is_selected))\n",
    "\n",
    "print(hawk3d.markers[is_selected].shape[0])\n"
   ]
  },
  {
   "cell_type": "code",
   "execution_count": null,
   "metadata": {},
   "outputs": [],
   "source": []
  },
  {
   "cell_type": "code",
   "execution_count": null,
   "metadata": {},
   "outputs": [],
   "source": [
    "# only_2017 = hawk3d.frames.filter_by(obstacle=True)\n",
    "pca_input = hawk3d.PCA.get_input(hawk3d.frames.markers)\n",
    "\n",
    "print(pca_input.shape)\n",
    "\n",
    "pca = PCA()\n",
    "pca.fit(pca_input)\n",
    "\n",
    "print(pca.explained_variance_ratio_)\n"
   ]
  },
  {
   "cell_type": "code",
   "execution_count": null,
   "metadata": {},
   "outputs": [],
   "source": [
    "# only_2017 = hawk3d.frames.filter_by(obstacle=True)\n",
    "\n",
    "pca_input = hawk3d.PCA.get_input(hawk3d.frames.markers)\n",
    "\n",
    "hawk3d.PCA.run_PCA(pca_input)\n",
    "\n",
    "hawk3d.PCA.get_score_range()\n"
   ]
  },
  {
   "cell_type": "code",
   "execution_count": null,
   "metadata": {},
   "outputs": [],
   "source": [
    "\n",
    "plt.close('all')\n",
    "selected_PCs = [0]\n",
    "frames = hawk3d.PCA.reconstruct(selected_PCs)\n",
    "\n",
    "hawk3d.animate_hawk(frames)\n"
   ]
  },
  {
   "cell_type": "code",
   "execution_count": null,
   "metadata": {},
   "outputs": [],
   "source": [
    "plt.close('all')\n",
    "# hawk3d.quick_PCA()"
   ]
  },
  {
   "cell_type": "code",
   "execution_count": null,
   "metadata": {},
   "outputs": [],
   "source": [
    "only_2017 = hawk3d.frames.filter_by(year=2017)\n",
    "pca_input = hawk3d.PCA.get_input(hawk3d.frames.markers[only_2017])\n",
    "print(pca_input.shape)\n",
    "\n",
    "hawk3d.PCA.run_PCA(pca_input)\n",
    "hawk3d.PCA.get_results_table(only_2017)\n",
    "\n",
    "print(hawk3d.PCA.results_table.columns)\n",
    "\n",
    "results_table = hawk3d.PCA.filter_results_by(hawk=\"Toothless\",perchDist=\"5m\")\n",
    "print(results_table.shape)\n",
    "\n",
    "binned_mean_table, binned_std_table = hawk3d.PCA.binned_results(results_table)\n",
    "print(binned_mean_table.shape)\n",
    "\n",
    "print(binned_mean_table.HorzDistance.to_numpy().shape)\n",
    "\n"
   ]
  },
  {
   "cell_type": "code",
   "execution_count": null,
   "metadata": {},
   "outputs": [],
   "source": [
    "plt.close('all')\n",
    "selected_PCs = [0,1,2]\n",
    "horzDist = binned_mean_table.HorzDistance.values\n",
    "print(horzDist.shape)\n",
    "frames = hawk3d.PCA.reconstruct_reduced_dims(binned_mean_table,selected_PCs)\n",
    "print(frames.shape)\n",
    "hawk3d.animate_hawk(frames, horzDist_frames=horzDist)\n"
   ]
  },
  {
   "cell_type": "code",
   "execution_count": null,
   "metadata": {},
   "outputs": [],
   "source": [
    "# figures = PCAFigures(hawk3d.PCA)\n",
    "\n",
    "\n",
    "# # figures.mean_score_by_bin()\n",
    "# mean_horzdist = figures.results_table.groupby('bins')['HorzDistance'].mean()\n",
    "\n",
    "\n"
   ]
  }
 ],
 "metadata": {
  "kernelspec": {
   "display_name": "venv",
   "language": "python",
   "name": "python3"
  },
  "language_info": {
   "codemirror_mode": {
    "name": "ipython",
    "version": 3
   },
   "file_extension": ".py",
   "mimetype": "text/x-python",
   "name": "python",
   "nbconvert_exporter": "python",
   "pygments_lexer": "ipython3",
   "version": "3.11.6"
  }
 },
 "nbformat": 4,
 "nbformat_minor": 2
}
