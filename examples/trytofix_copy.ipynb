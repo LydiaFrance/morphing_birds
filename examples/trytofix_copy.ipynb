{
 "cells": [
  {
   "cell_type": "code",
   "execution_count": 53,
   "metadata": {},
   "outputs": [
    {
     "name": "stdout",
     "output_type": "stream",
     "text": [
      "The autoreload extension is already loaded. To reload it, use:\n",
      "  %reload_ext autoreload\n"
     ]
    }
   ],
   "source": [
    "%load_ext autoreload\n",
    "%autoreload 2\n",
    "\n",
    "%matplotlib widget\n",
    "\n",
    "%config InlineBackend.figure_format='svg'\n",
    "\n",
    "import numpy as np\n",
    "from matplotlib import pyplot as plt\n",
    "\n",
    "from morphing_birds import Hawk3D, plot, interactive_plot, animate, process_data, filter_by, run_PCA, HawkPCATest\n",
    "\n",
    "\n"
   ]
  },
  {
   "cell_type": "code",
   "execution_count": null,
   "metadata": {},
   "outputs": [],
   "source": [
    "# Stop it printing in scientific notation\n",
    "np.set_printoptions(suppress=True)\n",
    "\n",
    "hawk3d = Hawk3D(\"../data/mean_hawk_shape.csv\")\n",
    "print(hawk3d.get_polygon_coords(\"head\"))\n",
    "print(hawk3d.current_shape.shape)\n",
    "print(hawk3d.origin)\n",
    "hawk3d.transform_keypoints(horzDist=100, vertDist=10)\n",
    "print(hawk3d.origin)\n",
    "\n",
    "print(hawk3d.get_polygon_coords(\"head\"))\n",
    "\n",
    "# print(hawk3d.current_shape)\n",
    "# print(hawk3d.get_polygon_coords(\"left_handwing\"))\n",
    "\n",
    "interactive_plot(hawk3d)\n",
    "\n"
   ]
  },
  {
   "cell_type": "code",
   "execution_count": null,
   "metadata": {},
   "outputs": [],
   "source": [
    "print(\"Matrix before any operation:\", hawk3d.transformation_matrix)\n",
    "hawk3d.update_rotation(0)\n",
    "hawk3d.update_translation(0, 0)\n",
    "print(\"Matrix after zero operations:\", hawk3d.transformation_matrix)"
   ]
  },
  {
   "cell_type": "code",
   "execution_count": null,
   "metadata": {},
   "outputs": [
    {
     "name": "stderr",
     "output_type": "stream",
     "text": [
      "No such comm: 47cdeb2d4b794f49bb993362bdb02311\n"
     ]
    }
   ],
   "source": [
    "# Create fake keypoints by taking the default shape, adding some noise per frame (n,4,3) where \n",
    "\n",
    "# n is the number of frames, 4 is the number of keypoints, 3 is the number of coordinates per keypoint\n",
    "\n",
    "hawk3d.reset_transformation()\n",
    "fake_keypoints = np.random.normal(0, 0.01, (100,8,3)) + hawk3d.markers\n",
    "\n",
    "# Repeat over 100 frames\n",
    "# fake_keypoints = np.zeros((100,4,3)) + hawk3d.right_markers\n",
    "\n",
    "\n",
    "\n",
    "fake_horz = np.linspace(10,0,100)\n",
    "fake_vert = np.linspace(0,1,100)\n",
    "fake_rot = np.linspace(0, 180, 100)\n",
    "# print(fake_horz)\n",
    "\n",
    "\n",
    "animate(hawk3d, fake_keypoints, bodypitch_frames=fake_rot, horzDist_frames=fake_horz, vertDist_frames=fake_vert)\n",
    "\n",
    "\n"
   ]
  },
  {
   "cell_type": "code",
   "execution_count": 16,
   "metadata": {},
   "outputs": [],
   "source": [
    "plt.close()"
   ]
  },
  {
   "cell_type": "code",
   "execution_count": 55,
   "metadata": {},
   "outputs": [
    {
     "name": "stdout",
     "output_type": "stream",
     "text": [
      "Loaded marker data and renamed columns.\n",
      "Loaded frame info and cleaned columns.\n",
      "Data verified.\n",
      "(26802, 8, 3)\n"
     ]
    }
   ],
   "source": [
    "# data = HawkDataTest(\"../data/2024-03-24-FullUnilateralMarkers.csv\")\n",
    "# data = HawkDataTest(\"../data/2024-03-24-FullBilateralMarkers.csv\")\n",
    "\n",
    "csv_path = \"../data/2024-03-24-FullBilateralMarkers.csv\"\n",
    "markers, frame_info, markers_df, frame_info_df = process_data(csv_path)\n",
    "\n",
    "Toothless = filter_by(frame_info, \"To\", perchDist=9)\n",
    "print(markers[Toothless].shape)\n"
   ]
  },
  {
   "cell_type": "code",
   "execution_count": 56,
   "metadata": {},
   "outputs": [],
   "source": [
    "principal_components, scores, mu = run_PCA(markers[Toothless])"
   ]
  },
  {
   "cell_type": "code",
   "execution_count": 57,
   "metadata": {},
   "outputs": [
    {
     "name": "stdout",
     "output_type": "stream",
     "text": [
      "(24, 24)\n",
      "(26802, 24)\n",
      "(24,)\n"
     ]
    }
   ],
   "source": [
    "print(principal_components.shape)\n",
    "print(scores.shape)\n",
    "print(mu.shape)"
   ]
  },
  {
   "cell_type": "code",
   "execution_count": 20,
   "metadata": {},
   "outputs": [
    {
     "data": {
      "text/plain": [
       "(454505, 12)"
      ]
     },
     "execution_count": 20,
     "metadata": {},
     "output_type": "execute_result"
    }
   ],
   "source": [
    "\n",
    "HawkPCA = HawkPCATest(data)\n",
    "HawkPCA.run_pca()\n",
    "HawkPCA.scores.shape"
   ]
  },
  {
   "cell_type": "code",
   "execution_count": null,
   "metadata": {},
   "outputs": [],
   "source": [
    "scoreframes = HawkPCA.get_score_range()"
   ]
  },
  {
   "cell_type": "code",
   "execution_count": null,
   "metadata": {},
   "outputs": [],
   "source": [
    "reconstructed_markers = HawkPCA.reconstruct(components_list=[0])\n",
    "print(reconstructed_markers[0].shape)"
   ]
  },
  {
   "cell_type": "code",
   "execution_count": null,
   "metadata": {},
   "outputs": [],
   "source": [
    "# Clear figures from memory\n",
    "plt.close('all')\n"
   ]
  },
  {
   "cell_type": "code",
   "execution_count": null,
   "metadata": {},
   "outputs": [],
   "source": [
    "\n",
    "hawk3d.update_keypoints(reconstructed_markers[15])\n",
    "hawkplot = HawkPlotterTest(hawk3d)\n",
    "HawkAnimate = HawkAnimatorTest(hawk3d, hawkplot)\n",
    "\n",
    "reconstructed_markers = HawkPCA.reconstruct(components_list=[0])\n",
    "HawkAnimate.animate(reconstructed_markers)\n",
    "\n",
    "# _ = hawkplot.interactive_plot()\n"
   ]
  },
  {
   "cell_type": "markdown",
   "metadata": {},
   "source": [
    "## Attempting to reconstruct all the data to plot it in 3d\n"
   ]
  },
  {
   "cell_type": "code",
   "execution_count": null,
   "metadata": {},
   "outputs": [],
   "source": [
    "data = HawkDataTest(\"../data/2024-03-24-FullUnilateralMarkers.csv\")\n",
    "HawkPCA = HawkPCATest(data)\n",
    "HawkPCA.run_pca()\n",
    "scores = HawkPCA.scores"
   ]
  },
  {
   "cell_type": "code",
   "execution_count": null,
   "metadata": {},
   "outputs": [],
   "source": [
    "reconstructed_markers = HawkPCA.reconstruct(score_frames=scores)\n",
    "reconstructed_markers.shape"
   ]
  },
  {
   "cell_type": "markdown",
   "metadata": {},
   "source": [
    "# Plot original data\n",
    "using 3 panels: xy, xz, yz"
   ]
  },
  {
   "cell_type": "code",
   "execution_count": null,
   "metadata": {},
   "outputs": [],
   "source": [
    "# %matplotlib inline\n",
    "import numpy as np\n",
    "from matplotlib import pyplot as plt\n",
    "\n",
    "from morphing_birds import Hawk3Dtest, HawkPlotterTest, HawkAnimatorTest, HawkDataTest, HawkPCATest\n",
    "import holoviews as hv\n",
    "from holoviews.operation.datashader import datashade\n",
    "from holoviews import opts, dim\n",
    "import datashader as ds\n",
    "import datashader.transfer_functions as tf\n",
    "from datashader.colors import Greys9\n",
    "from datashader.colors import Elevation\n",
    "from datashader.utils import export_image\n",
    "import pandas as pd\n",
    "from functools import partial\n",
    "\n",
    "# hv.extension(\"matplotlib\")\n",
    "\n",
    "Greys9_r = list(reversed(Greys9))[:-2]\n",
    "\n",
    "data = HawkDataTest(\"../data/2024-03-24-FullUnilateralMarkers.csv\")\n",
    "HawkPCA = HawkPCATest(data)\n",
    "HawkPCA.run_pca()\n",
    "\n"
   ]
  },
  {
   "cell_type": "code",
   "execution_count": null,
   "metadata": {},
   "outputs": [],
   "source": [
    "%matplotlib widget\n",
    "fig, axs = plt.subplots(3, 3, figsize=(15, 10))\n",
    "\n",
    "# Flatten the axs array for easier access\n",
    "axes = axs.flatten()\n",
    "\n",
    "filter_data = data.filter_by(birdID=4)\n",
    "toothless_data = data.markers[filter_data]\n",
    "col_names = [\"x\",\"y\",\"z\"]\n",
    "\n",
    "marker_id = 0\n",
    "toothless_data = toothless_data[:,marker_id,:]\n",
    "toothless_pd = pd.DataFrame(toothless_data, columns=col_names)\n",
    "\n",
    "scores = HawkPCA.scores\n",
    "PC_list = [0,1,2]\n",
    "# PC_list = [0,1,2,3,4,5,6,7,8,9,10,11]\n",
    "\n",
    "reconstructed = HawkPCA.reconstruct(components_list=PC_list,score_frames=scores)\n",
    "toothless_reconstructed = reconstructed[filter_data]\n",
    "\n",
    "toothless_reconstructed = toothless_reconstructed[:,marker_id,:]\n",
    "toothless_reconstructed_pd = pd.DataFrame(toothless_reconstructed, columns=col_names)\n",
    "print(toothless_reconstructed_pd.shape)\n",
    "\n",
    "bounds = dict(x_range=(-0.6, 0.6), y_range=(-0.65, 0.65))\n",
    "cvs = ds.Canvas(plot_width=500, plot_height=500, **bounds)\n",
    "\n",
    "x_values = [\"x\", \"x\", \"y\"]\n",
    "y_values = [\"y\", \"z\", \"z\"]\n",
    "\n",
    "# Loop through each subplot axes\n",
    "for ii, ax in enumerate(axes):\n",
    "    if ii < 3:\n",
    "        # For demonstration, using the same 'toothless_pd' for each subplot\n",
    "        # In practice, you may have different datasets or parameters per subplot\n",
    "        agg = cvs.points(toothless_pd, x_values[ii], y_values[ii], ds.count())\n",
    "        img = tf.shade(agg, cmap=[\"white\", \"black\"], how='log')\n",
    "\n",
    "    if ii > 2 and ii < 6:\n",
    "        agg = cvs.points(toothless_reconstructed_pd, x_values[ii-3], y_values[ii-3], ds.count())\n",
    "        img = tf.shade(agg, cmap=[\"white\", \"black\"], how='log')\n",
    "\n",
    "\n",
    "    if ii > 5:\n",
    "        agg1 = cvs.points(toothless_pd, x_values[ii-6], y_values[ii-6], ds.count())\n",
    "        agg2 = cvs.points(toothless_reconstructed_pd, x_values[ii-6], y_values[ii-6], ds.count())\n",
    "        img1 = tf.shade(agg1, cmap=[\"blue\"], how='log', alpha=128)\n",
    "        img2 = tf.shade(agg2, cmap=[\"red\"], how='log')\n",
    "\n",
    "        # Combine the two images into a single image\n",
    "        img = tf.stack(img2, img1)\n",
    "\n",
    "    img = tf.set_background(img, 'white')\n",
    "    \n",
    "    # Convert the Datashader image to a NumPy array and display in subplot\n",
    "    img_array = np.array(img.to_pil())\n",
    "    ax.imshow(img_array)\n",
    "    ax.axis('off')  # Turn off axis for cleaner look\n",
    "\n",
    "# Adjust subplot layout for aesthetics\n",
    "plt.tight_layout()\n",
    "plt.show()\n",
    "\n",
    "\n",
    "\n",
    "# agg = cvs.points(toothless_pd, 'x', 'z', ds.count())\n",
    "# img = tf.shade(agg, cmap= [\"white\", \"black\"], how='log')\n",
    "# display(tf.set_background(img, 'white'))\n",
    "\n",
    "# # using cvs on a numpy array without column names\n",
    "\n"
   ]
  },
  {
   "cell_type": "markdown",
   "metadata": {},
   "source": [
    "## Show all possible combinations of 2 standard deviations of the scores\n",
    "\n"
   ]
  },
  {
   "cell_type": "code",
   "execution_count": null,
   "metadata": {},
   "outputs": [],
   "source": [
    "scores = HawkPCA.scores\n",
    "st_dev = np.std(scores,axis=0)\n",
    "st_dev.shape\n",
    "\n",
    "# Create a numpy array linspace going from -2 to 2 standard deviations\n",
    "# with 20 points\n",
    "num_points = 20\n",
    "PC_1 = np.linspace(-2*st_dev[0], 2*st_dev[0], num_points)\n",
    "PC_2 = np.linspace(-2*st_dev[1], 2*st_dev[1], num_points)\n",
    "# PC_3 = np.linspace(-2*st_dev[2], 2*st_dev[2], num_points)\n",
    "\n",
    "# Create a large matrix with all possible combinations of PC_1 and PC_2\n",
    "PC_1, PC_2 = np.meshgrid(PC_1, PC_2)\n",
    "\n",
    "# Create a 2D array with the PC_1 and PC_2 values\n",
    "PC_1_2D = PC_1.flatten()\n",
    "PC_2_2D = PC_2.flatten()\n",
    "# PC_3_2D = PC_3.flatten()\n",
    "\n",
    "\n",
    "# Concatenate both to a 2D array\n",
    "combined = np.vstack((PC_1_2D, PC_2_2D)).T\n",
    "print(combined.shape)\n",
    "\n",
    "# For every remaining column up to 12, add 0s\n",
    "for ii in range(combined.shape[1],12):\n",
    "    combined = np.hstack((combined, np.zeros((combined.shape[0],1))))\n",
    "\n",
    "\n",
    "# Repeat the combined array for the number of frames\n",
    "nPoints = toothless_pd.shape[0]\n",
    "combined = np.repeat(combined, nPoints, axis=0)\n",
    "combined.shape\n"
   ]
  },
  {
   "cell_type": "code",
   "execution_count": null,
   "metadata": {},
   "outputs": [],
   "source": [
    "%matplotlib widget\n",
    "\n",
    "# Now we can reconstruct the markers for all possible combinations\n",
    "reconstructed = HawkPCA.reconstruct(components_list=[0,1], score_frames=combined)\n",
    "print(reconstructed.shape)\n",
    "\n",
    "# Now we can plot the reconstructed markers\n",
    "marker_id = 0\n",
    "reconstructed = reconstructed[:,marker_id,:]\n",
    "reconstructed_pd = pd.DataFrame(reconstructed, columns=col_names)\n",
    "print(reconstructed_pd.shape)\n",
    "\n",
    "bounds = dict(x_range=(-0.6, 0.6), y_range=(-0.65, 0.65))\n",
    "cvs = ds.Canvas(plot_width=500, plot_height=500, **bounds)\n",
    "\n",
    "x_values = [\"x\", \"x\", \"y\"]\n",
    "y_values = [\"y\", \"z\", \"z\"]\n",
    "\n",
    "\n",
    "fig, axs = plt.subplots(3, 3, figsize=(3, 2))\n",
    "\n",
    "# Flatten the axs array for easier access\n",
    "axes = axs.flatten()\n",
    "\n",
    "# Loop through each subplot axes\n",
    "for ii, ax in enumerate(axes):\n",
    "    if ii < 3:\n",
    "        # For demonstration, using the same 'toothless_pd' for each subplot\n",
    "        # In practice, you may have different datasets or parameters per subplot\n",
    "        agg = cvs.points(toothless_pd, x_values[ii], y_values[ii], ds.count())\n",
    "        img = tf.shade(agg, cmap=[\"white\", \"black\"], how='log')\n",
    "\n",
    "    if ii > 2 and ii < 6:\n",
    "        agg = cvs.points(reconstructed_pd, x_values[ii-3], y_values[ii-3], ds.count())\n",
    "        img = tf.shade(agg, cmap=[\"white\", \"black\"], how='linear')\n",
    "\n",
    "\n",
    "    if ii > 5:\n",
    "        agg1 = cvs.points(toothless_pd, x_values[ii-6], y_values[ii-6], ds.count())\n",
    "        agg2 = cvs.points(reconstructed_pd, x_values[ii-6], y_values[ii-6], ds.count())\n",
    "        img1 = tf.shade(agg1, cmap=[\"blue\"], how='log', alpha=128)\n",
    "        img2 = tf.shade(agg2, cmap=[\"red\"], how='eq_hist')\n",
    "\n",
    "        # Combine the two images into a single image\n",
    "        img = tf.stack(img2, img1)\n",
    "\n",
    "    img = tf.set_background(img, 'white')\n",
    "    \n",
    "    # Convert the Datashader image to a NumPy array and display in subplot\n",
    "    img_array = np.array(img.to_pil())\n",
    "    ax.imshow(img_array)\n",
    "    ax.axis('off')  # Turn off axis for cleaner look\n",
    "\n",
    "# Adjust subplot layout for aesthetics\n",
    "plt.tight_layout()\n",
    "plt.show()\n",
    "\n",
    "\n"
   ]
  },
  {
   "cell_type": "markdown",
   "metadata": {},
   "source": []
  },
  {
   "cell_type": "code",
   "execution_count": null,
   "metadata": {},
   "outputs": [],
   "source": [
    "selection = data.filter_by(hawkname=\"Toothless\",\n",
    "                      perchDist=9)\n",
    "selection\n",
    "\n",
    "data.markers[selection].shape"
   ]
  },
  {
   "cell_type": "code",
   "execution_count": null,
   "metadata": {},
   "outputs": [],
   "source": [
    "\n"
   ]
  },
  {
   "cell_type": "code",
   "execution_count": null,
   "metadata": {},
   "outputs": [],
   "source": [
    "# print(hawk3d.markers)\n",
    "\n",
    "# # Stop python printing in scientific notation\n",
    "# np.set_printoptions(suppress=True)\n",
    "# # Make a numpy array of 1s in the shape [1,4,3]\n",
    "# a = np.ones((1,4,3))*100\n",
    "\n",
    "\n",
    "# # See if update works\n",
    "# hawk3d.update_keypoints(a)\n",
    "# hawk3d.markers\n",
    "# hawk3d.right_markers\n",
    "\n",
    "# # # See if restore works\n",
    "# hawk3d.restore_keypoints()\n",
    "# hawk3d.markers\n",
    "# hawk3d.right_markers\n"
   ]
  },
  {
   "cell_type": "code",
   "execution_count": null,
   "metadata": {},
   "outputs": [],
   "source": [
    "hawkplot = HawkPlotterTest(hawk3d)\n",
    "\n",
    "hawkplot.plot()\n",
    "\n"
   ]
  },
  {
   "cell_type": "code",
   "execution_count": null,
   "metadata": {},
   "outputs": [],
   "source": [
    "# Create an array of [100,4,3] to see if the animation works\n",
    "keypoint_frames = hawk3d.markers\n",
    "\n",
    "# Now repeat keypoint_frames 100 times\n",
    "keypoint_frames = np.repeat(keypoint_frames, 5, axis=0)\n",
    "\n",
    "# Then add a little noise to the keypoint_frames\n",
    "keypoint_frames += np.random.randn(*keypoint_frames.shape)*0.02\n",
    "\n",
    "print(keypoint_frames.shape)\n",
    "\n",
    "# hawk_animator = HawkAnimatorTest(hawk3d, hawkplot)\n",
    "\n",
    "# hawk_animator.HawkPlotter.interactive_plot(keypoint_frames[0])\n",
    "# print(keypoint_frames[0].shape)\n",
    "hawk3d.update_keypoints(keypoint_frames[0])\n",
    "print(keypoint_frames[0])\n",
    "print(hawk3d.right_markers)\n",
    "\n",
    "# HawkPlotterTest(hawk3d).interactive_plot()\n",
    "\n",
    "# HawkAnimate = HawkAnimatorTest(hawk3d, hawkplot)\n",
    "\n",
    "# animation = HawkAnimate.animate(keypoint_frames)\n",
    "\n",
    "# new_hawkplot = HawkPlotterTest(new_hawk3d)\n",
    "# new_hawkplot.interactive_plot()\n",
    "\n",
    "# display(animation)\n",
    "\n"
   ]
  },
  {
   "cell_type": "code",
   "execution_count": null,
   "metadata": {},
   "outputs": [],
   "source": [
    "# stop the animation\n",
    "animation.event_source.stop()"
   ]
  },
  {
   "cell_type": "markdown",
   "metadata": {},
   "source": [
    "## Load DMD results\n"
   ]
  },
  {
   "cell_type": "code",
   "execution_count": null,
   "metadata": {},
   "outputs": [],
   "source": [
    "plt.close('all')\n"
   ]
  },
  {
   "cell_type": "code",
   "execution_count": null,
   "metadata": {},
   "outputs": [],
   "source": [
    "# animation.event_source.stop()\n",
    "plt.close('all')\n",
    "\n",
    "dynamicsMode = np.load(\"../data/dynamics/Mode1.npy\")\n",
    "\n",
    "\n",
    "\n",
    "# dynamicsMode = np.load(\"../data/dynamics/FlightDynamics.npy\")\n",
    "\n",
    "\n",
    "hawk3d = Hawk3Dtest(\"../data/mean_hawk_shape.csv\")\n",
    "\n",
    "hawkplot = HawkPlotterTest(hawk3d)\n",
    "\n",
    "HawkAnimate = HawkAnimatorTest(hawk3d, hawkplot)\n",
    "\n",
    "# Grab every other starting with the second\n",
    "right_dynamicsMode = dynamicsMode[0:50,1::2,:]\n",
    "\n",
    "# Reverse the x axis just in case\n",
    "# right_dynamicsMode[:,:,0] = -right_dynamicsMode[:,:,0]\n",
    "\n",
    "# Reverse the left side of the full results as this hasn't been done\n",
    "# Reverse the x axis for the left side -- every other starting with the first\n",
    "# dynamicsMode[:,0::2,0] = -dynamicsMode[:,0::2,0]\n",
    "\n",
    "# Add some scaling\n",
    "# right_dynamicsMode *= 0.8\n",
    "\n",
    "# right_dynamicsMode *= 80\n",
    "\n",
    "\n",
    "print(right_dynamicsMode.shape)\n",
    "\n",
    "# Add it to the average shape\n",
    "average_shape = hawk3d.default_right_markers\n",
    "\n",
    "# average_shape_full = hawk3d.default_markers\n",
    "\n",
    "# Repeat it for the number of frames\n",
    "average_shape = np.repeat(average_shape, right_dynamicsMode.shape[0], axis=0)\n",
    "\n",
    "right_dynamicsMode = right_dynamicsMode + average_shape\n",
    "\n",
    "animation = HawkAnimate.animate(right_dynamicsMode,az=20,colour=\"darkmagenta\")\n",
    "\n",
    "\n",
    "\n",
    "\n",
    "\n",
    "# plt.rcParams['animation.convert_path'] = '/opt/homebrew/bin/magick'\n",
    "# animation.save('../gif_results/combined_side.gif', writer='imagemagick', fps=5,dpi=200)\n",
    "\n",
    "\n",
    "\n",
    "\n",
    "\n",
    "\n",
    "# animation = HawkAnimate.animate(dynamicsMode,az=40)\n",
    "\n"
   ]
  },
  {
   "cell_type": "code",
   "execution_count": null,
   "metadata": {},
   "outputs": [],
   "source": []
  },
  {
   "cell_type": "markdown",
   "metadata": {},
   "source": [
    "## Just plot the wingbeat from the data\n"
   ]
  },
  {
   "cell_type": "code",
   "execution_count": null,
   "metadata": {},
   "outputs": [],
   "source": [
    "plt.close('all')\n",
    "single_wingbeat = np.load(\"../data/dynamics/wingbeat_measurement.npy\")\n",
    "\n",
    "single_wingbeat = single_wingbeat.T\n",
    "print(single_wingbeat.shape)\n",
    "\n",
    "# Grab every other starting with the second\n",
    "right_single_wingbeat = single_wingbeat[:,1::2]\n",
    "\n",
    "\n",
    "# Reshape to be [-1,4,3]\n",
    "right_single_wingbeat = right_single_wingbeat.reshape(-1,4,3)\n",
    "single_wingbeat = single_wingbeat.reshape(-1,8,3)\n",
    "print(right_single_wingbeat.shape)\n",
    "\n",
    "# Reverse the x axis for every other starting with the first\n",
    "single_wingbeat[:,0::2,0] = -single_wingbeat[:,0::2,0]\n",
    "\n",
    "\n",
    "# Add it to the average shape\n",
    "average_shape = hawk3d.default_right_markers\n",
    "average_shape_full = hawk3d.default_markers\n",
    "\n",
    "# Repeat it for the number of frames\n",
    "average_shape = np.repeat(average_shape, right_single_wingbeat.shape[0], axis=0)\n",
    "average_shape_full = np.repeat(average_shape_full, single_wingbeat.shape[0], axis=0)\n",
    "\n",
    "right_single_wingbeat = right_single_wingbeat + average_shape\n",
    "single_wingbeat = single_wingbeat + average_shape_full\n",
    "\n",
    "# Stack the array multiple times, such that it runs all the way through and then restarts\n",
    "# I can't use np.repeat as that will just repeat the same frame multiple times\n",
    "# Instead I need to stack the array multiple times\n",
    "\n",
    "\n",
    "# animation = HawkAnimate.animate(right_single_wingbeat,az=40,colour='firebrick')\n",
    "animation = HawkAnimate.animate(single_wingbeat,az=20,colour='firebrick')\n",
    "\n",
    "plt.rcParams['animation.convert_path'] = '/opt/homebrew/bin/magick'\n",
    "animation.save('../gif_results/actual_data_wingbeat_side.gif', writer='imagemagick', fps=10,dpi=200)\n",
    "\n",
    "\n",
    "\n",
    "\n"
   ]
  },
  {
   "cell_type": "code",
   "execution_count": null,
   "metadata": {},
   "outputs": [],
   "source": [
    "print(dynamicsMode)"
   ]
  }
 ],
 "metadata": {
  "kernelspec": {
   "display_name": "venv",
   "language": "python",
   "name": "python3"
  },
  "language_info": {
   "codemirror_mode": {
    "name": "ipython",
    "version": 3
   },
   "file_extension": ".py",
   "mimetype": "text/x-python",
   "name": "python",
   "nbconvert_exporter": "python",
   "pygments_lexer": "ipython3",
   "version": "3.11.6"
  }
 },
 "nbformat": 4,
 "nbformat_minor": 2
}
