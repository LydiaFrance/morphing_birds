{
 "cells": [
  {
   "cell_type": "code",
   "execution_count": 1,
   "metadata": {},
   "outputs": [],
   "source": [
    "%load_ext autoreload\n",
    "%autoreload 2\n",
    "\n",
    "%matplotlib widget\n",
    "\n",
    "%config InlineBackend.figure_format='svg'\n",
    "\n",
    "import numpy as np\n",
    "from matplotlib import pyplot as plt\n",
    "\n",
    "from morphing_birds import Hawk3D, plot, interactive_plot, animate, process_data, filter_by, run_PCA, get_score_range, reconstruct\n",
    "\n",
    "\n",
    "\n"
   ]
  },
  {
   "cell_type": "code",
   "execution_count": null,
   "metadata": {},
   "outputs": [],
   "source": [
    "# Stop it printing in scientific notation\n",
    "np.set_printoptions(suppress=True)\n",
    "\n",
    "hawk3d = Hawk3D(\"../data/mean_hawk_shape.csv\")\n",
    "print(hawk3d.get_polygon_coords(\"head\"))\n",
    "print(hawk3d.current_shape.shape)\n",
    "print(hawk3d.origin)\n",
    "hawk3d.transform_keypoints(horzDist=100, vertDist=10)\n",
    "print(hawk3d.origin)\n",
    "\n",
    "print(hawk3d.get_polygon_coords(\"head\"))\n",
    "\n",
    "# print(hawk3d.current_shape)\n",
    "# print(hawk3d.get_polygon_coords(\"left_handwing\"))\n",
    "\n",
    "interactive_plot(hawk3d)\n",
    "\n"
   ]
  },
  {
   "cell_type": "code",
   "execution_count": null,
   "metadata": {},
   "outputs": [],
   "source": [
    "print(\"Matrix before any operation:\", hawk3d.transformation_matrix)\n",
    "hawk3d.update_rotation(0)\n",
    "hawk3d.update_translation(0, 0)\n",
    "print(\"Matrix after zero operations:\", hawk3d.transformation_matrix)"
   ]
  },
  {
   "cell_type": "code",
   "execution_count": null,
   "metadata": {},
   "outputs": [
    {
     "name": "stderr",
     "output_type": "stream",
     "text": [
      "No such comm: 47cdeb2d4b794f49bb993362bdb02311\n"
     ]
    }
   ],
   "source": [
    "# Create fake keypoints by taking the default shape, adding some noise per frame (n,4,3) where \n",
    "\n",
    "# n is the number of frames, 4 is the number of keypoints, 3 is the number of coordinates per keypoint\n",
    "\n",
    "hawk3d.reset_transformation()\n",
    "fake_keypoints = np.random.normal(0, 0.01, (100,8,3)) + hawk3d.markers\n",
    "\n",
    "# Repeat over 100 frames\n",
    "# fake_keypoints = np.zeros((100,4,3)) + hawk3d.right_markers\n",
    "\n",
    "\n",
    "\n",
    "fake_horz = np.linspace(10,0,100)\n",
    "fake_vert = np.linspace(0,1,100)\n",
    "fake_rot = np.linspace(0, 180, 100)\n",
    "# print(fake_horz)\n",
    "\n",
    "\n",
    "animate(hawk3d, fake_keypoints, bodypitch_frames=fake_rot, horzDist_frames=fake_horz, vertDist_frames=fake_vert)\n",
    "\n",
    "\n"
   ]
  },
  {
   "cell_type": "code",
   "execution_count": 16,
   "metadata": {},
   "outputs": [],
   "source": [
    "plt.close()"
   ]
  },
  {
   "cell_type": "code",
   "execution_count": 63,
   "metadata": {},
   "outputs": [
    {
     "name": "stdout",
     "output_type": "stream",
     "text": [
      "Loaded marker data and renamed columns.\n",
      "Loaded frame info and cleaned columns.\n",
      "Data verified.\n",
      "(105859, 8, 3)\n",
      "Index(['left_wingtip_x', 'left_wingtip_y', 'left_wingtip_z', 'right_wingtip_x',\n",
      "       'right_wingtip_y', 'right_wingtip_z', 'left_primary_x',\n",
      "       'left_primary_y', 'left_primary_z', 'right_primary_x',\n",
      "       'right_primary_y', 'right_primary_z', 'left_secondary_x',\n",
      "       'left_secondary_y', 'left_secondary_z', 'right_secondary_x',\n",
      "       'right_secondary_y', 'right_secondary_z', 'left_tailtip_x',\n",
      "       'left_tailtip_y', 'left_tailtip_z', 'right_tailtip_x',\n",
      "       'right_tailtip_y', 'right_tailtip_z'],\n",
      "      dtype='object')\n"
     ]
    }
   ],
   "source": [
    "# data = HawkDataTest(\"../data/2024-03-24-FullUnilateralMarkers.csv\")\n",
    "# data = HawkDataTest(\"../data/2024-03-24-FullBilateralMarkers.csv\")\n",
    "\n",
    "csv_path = \"../data/2024-03-24-FullBilateralMarkers.csv\"\n",
    "markers, frame_info, markers_df, frame_info_df = process_data(csv_path)\n",
    "\n",
    "only_2017 = filter_by(frame_info, year=2017)\n",
    "print(markers[only_2017].shape)\n",
    "print(markers_df.columns)\n"
   ]
  },
  {
   "cell_type": "code",
   "execution_count": 66,
   "metadata": {},
   "outputs": [
    {
     "name": "stdout",
     "output_type": "stream",
     "text": [
      "(105859, 24)\n"
     ]
    }
   ],
   "source": [
    "principal_components, scores, mu = run_PCA(markers[only_2017])"
   ]
  },
  {
   "cell_type": "code",
   "execution_count": 68,
   "metadata": {},
   "outputs": [
    {
     "name": "stdout",
     "output_type": "stream",
     "text": [
      "No axes given, creating new figure inside interactive_plot.\n"
     ]
    },
    {
     "data": {
      "application/vnd.jupyter.widget-view+json": {
       "model_id": "d1771a993df84f5dbc3bd6794bb6a002",
       "version_major": 2,
       "version_minor": 0
      },
      "text/plain": [
       "IntSlider(value=60, description='azimuth', max=90, min=-90, step=5)"
      ]
     },
     "metadata": {},
     "output_type": "display_data"
    },
    {
     "data": {
      "application/vnd.jupyter.widget-view+json": {
       "model_id": "a0313703412342bfb53261789a4e8b90",
       "version_major": 2,
       "version_minor": 0
      },
      "text/plain": [
       "IntSlider(value=20, description='elevation', max=90, min=-15, step=5)"
      ]
     },
     "metadata": {},
     "output_type": "display_data"
    },
    {
     "data": {
      "application/vnd.jupyter.widget-view+json": {
       "model_id": "d00d1c4489ff48de8ddcbd2e69390e17",
       "version_major": 2,
       "version_minor": 0
      },
      "text/plain": [
       "Output()"
      ]
     },
     "metadata": {},
     "output_type": "display_data"
    }
   ],
   "source": [
    "hawk3d.update_keypoints(mu.reshape(1,-1,3))\n",
    "interactive_plot(hawk3d)"
   ]
  },
  {
   "cell_type": "code",
   "execution_count": 48,
   "metadata": {},
   "outputs": [
    {
     "name": "stdout",
     "output_type": "stream",
     "text": [
      "(12, 12)\n",
      "(299549, 12)\n",
      "(12,)\n"
     ]
    }
   ],
   "source": [
    "print(principal_components.shape)\n",
    "print(scores.shape)\n",
    "print(mu.shape)"
   ]
  },
  {
   "cell_type": "code",
   "execution_count": 57,
   "metadata": {},
   "outputs": [
    {
     "name": "stdout",
     "output_type": "stream",
     "text": [
      "(30, 12)\n",
      "(30, 4, 3)\n"
     ]
    }
   ],
   "source": [
    "score_frames = get_score_range(scores)\n",
    "print(score_frames.shape)\n",
    "\n",
    "print(reconstructed.shape)"
   ]
  },
  {
   "cell_type": "code",
   "execution_count": 64,
   "metadata": {},
   "outputs": [],
   "source": [
    "plt.close(\"all\")\n",
    "hawk3d = Hawk3D(\"../data/mean_hawk_shape.csv\")\n",
    "components_list = [0]\n",
    "reconstructed = reconstruct(score_frames, principal_components, mu, components_list)\n",
    "# animate(hawk3d, reconstructed, az=90)\n",
    "# hawk3d.update_keypoints(reconstructed[0])\n",
    "# interactive_plot(hawk3d)"
   ]
  },
  {
   "cell_type": "code",
   "execution_count": 20,
   "metadata": {},
   "outputs": [
    {
     "data": {
      "text/plain": [
       "(454505, 12)"
      ]
     },
     "execution_count": 20,
     "metadata": {},
     "output_type": "execute_result"
    }
   ],
   "source": [
    "\n",
    "HawkPCA = HawkPCATest(data)\n",
    "HawkPCA.run_pca()\n",
    "HawkPCA.scores.shape"
   ]
  },
  {
   "cell_type": "code",
   "execution_count": null,
   "metadata": {},
   "outputs": [],
   "source": [
    "scoreframes = HawkPCA.get_score_range()"
   ]
  },
  {
   "cell_type": "markdown",
   "metadata": {},
   "source": []
  },
  {
   "cell_type": "code",
   "execution_count": 74,
   "metadata": {},
   "outputs": [
    {
     "ename": "AttributeError",
     "evalue": "'HawkPCATest' object has no attribute 'score_frames'",
     "output_type": "error",
     "traceback": [
      "\u001b[0;31m---------------------------------------------------------------------------\u001b[0m",
      "\u001b[0;31mAttributeError\u001b[0m                            Traceback (most recent call last)",
      "Cell \u001b[0;32mIn[74], line 1\u001b[0m\n\u001b[0;32m----> 1\u001b[0m reconstructed_markers \u001b[38;5;241m=\u001b[39m \u001b[43mHawkPCA\u001b[49m\u001b[38;5;241;43m.\u001b[39;49m\u001b[43mreconstruct\u001b[49m\u001b[43m(\u001b[49m\u001b[43mcomponents_list\u001b[49m\u001b[38;5;241;43m=\u001b[39;49m\u001b[43m[\u001b[49m\u001b[38;5;241;43m0\u001b[39;49m\u001b[43m]\u001b[49m\u001b[43m)\u001b[49m\n\u001b[1;32m      2\u001b[0m \u001b[38;5;28mprint\u001b[39m(reconstructed_markers[\u001b[38;5;241m0\u001b[39m]\u001b[38;5;241m.\u001b[39mshape)\n",
      "File \u001b[0;32m~/Library/CloudStorage/OneDrive-TheAlanTuringInstitute/002_Projects/Hawkflight/morphing_birds/src/morphing_birds/trytofix.py:365\u001b[0m, in \u001b[0;36mreconstruct\u001b[0;34m(self, components_list, score_frames)\u001b[0m\n\u001b[1;32m      7\u001b[0m from matplotlib.animation import FuncAnimation\n\u001b[1;32m      8\u001b[0m from sklearn.decomposition import PCA\n\u001b[1;32m     13\u001b[0m # --- OLD CODE ---\n\u001b[1;32m     14\u001b[0m \n\u001b[1;32m     15\u001b[0m # class HawkData:\n\u001b[1;32m     16\u001b[0m \n\u001b[1;32m     17\u001b[0m #     def __init__(self, csv_path):\n\u001b[1;32m     18\u001b[0m #         self.markers = self.load_marker_frames(csv_path)\n\u001b[1;32m     19\u001b[0m         \n\u001b[1;32m     20\u001b[0m #         self.load_frame_data(csv_path)\n\u001b[1;32m     21\u001b[0m \n\u001b[1;32m     22\u001b[0m #         self.check_data()\n\u001b[1;32m     23\u001b[0m \n\u001b[1;32m     24\u001b[0m #     def load_marker_frames(self, csv_path):\n\u001b[1;32m     25\u001b[0m #         \"\"\"Load the unilateral markers dataset.\n\u001b[1;32m     26\u001b[0m \n\u001b[1;32m     27\u001b[0m #         Returns\n\u001b[1;32m     28\u001b[0m #         -------\n\u001b[1;32m     29\u001b[0m #         data : pandas.DataFrame\n\u001b[1;32m     30\u001b[0m #             The data frame containing the unilateral markers dataset.\n\u001b[1;32m     31\u001b[0m #         \"\"\"\n\u001b[1;32m     32\u001b[0m #         # Load the data\n\u001b[1;32m     33\u001b[0m #         markers_csv = pd.read_csv(csv_path)\n\u001b[1;32m     34\u001b[0m \n\u001b[1;32m     35\u001b[0m #         # Rename the columns\n\u001b[1;32m     36\u001b[0m #         markers_csv.columns = markers_csv.columns.str.replace(\"_rot_xyz_1\", \"_x\")\n\u001b[1;32m     37\u001b[0m #         markers_csv.columns = markers_csv.columns.str.replace(\"_rot_xyz_2\", \"_y\")\n\u001b[1;32m     38\u001b[0m #         markers_csv.columns = markers_csv.columns.str.replace(\"_rot_xyz_3\", \"_z\")\n\u001b[1;32m     39\u001b[0m \n\u001b[1;32m     40\u001b[0m #         # Get the index of the columns that contain the markers\n\u001b[1;32m     41\u001b[0m #         marker_index = markers_csv.columns[markers_csv.columns.str.contains('_x|_y|_z')]\n\u001b[1;32m     42\u001b[0m #         markers_csv = markers_csv[marker_index]\n\u001b[1;32m     43\u001b[0m \n\u001b[1;32m     44\u001b[0m #         # Save the cleaned up dataframe\n\u001b[1;32m     45\u001b[0m #         self.dataframe = markers_csv\n\u001b[1;32m     46\u001b[0m \n\u001b[1;32m     47\u001b[0m #         # Make a numpy array with the markers\n\u001b[1;32m     48\u001b[0m #         unilateral_markers = markers_csv.to_numpy()\n\u001b[1;32m     49\u001b[0m \n\u001b[1;32m     50\u001b[0m #         # Reshape to 3D\n\u001b[1;32m     51\u001b[0m #         unilateral_markers = unilateral_markers.reshape(-1,4,3)\n\u001b[1;32m     52\u001b[0m         \n\u001b[1;32m     53\u001b[0m #         return unilateral_markers\n\u001b[1;32m     54\u001b[0m \n\u001b[1;32m     55\u001b[0m #     def load_frame_data(self, csv_path):\n\u001b[1;32m     56\u001b[0m #         \"\"\"Load the frame info from the dataset.\n\u001b[1;32m     57\u001b[0m \n\u001b[1;32m     58\u001b[0m #         Returns\n\u001b[1;32m     59\u001b[0m #         -------\n\u001b[1;32m     60\u001b[0m #         data : pandas.DataFrame\n\u001b[1;32m     61\u001b[0m #             The data frame containing the unilateral markers dataset.\n\u001b[1;32m     62\u001b[0m #         \"\"\"\n\u001b[1;32m     63\u001b[0m #         # Load the data\n\u001b[1;32m     64\u001b[0m #         markers_csv = pd.read_csv(csv_path)\n\u001b[1;32m     65\u001b[0m \n\u001b[1;32m     66\u001b[0m #         # Makes horizontal distance NEGATIVE\n\u001b[1;32m     67\u001b[0m #         markers_csv['HorzDistance'] = -markers_csv['HorzDistance']\n\u001b[1;32m     68\u001b[0m         \n\u001b[1;32m     69\u001b[0m #         self.horzDist = markers_csv['HorzDistance'].to_numpy()\n\u001b[1;32m     70\u001b[0m #         self.frameID = markers_csv['frameID']\n\u001b[1;32m     71\u001b[0m #         self.leftBool = markers_csv['Left'].to_numpy()\n\u001b[1;32m     72\u001b[0m #         self.body_pitch = markers_csv['body_pitch'].to_numpy()\n\u001b[1;32m     73\u001b[0m #         self.obstacleBool = markers_csv['Obstacle'].to_numpy()\n\u001b[1;32m     74\u001b[0m #         self.IMUBool = markers_csv['IMU'].to_numpy()\n\u001b[1;32m     75\u001b[0m #         self.time = markers_csv['time'].to_numpy()\n\u001b[1;32m     76\u001b[0m \n\u001b[1;32m     77\u001b[0m #         # Add variables to dataframe\n\u001b[1;32m     78\u001b[0m #         self.dataframe['frameID'] = self.frameID\n\u001b[1;32m     79\u001b[0m #         self.dataframe['time'] = self.time\n\u001b[1;32m     80\u001b[0m #         self.dataframe['HorzDistance'] = self.horzDist\n\u001b[1;32m     81\u001b[0m #         self.dataframe['body_pitch'] = self.body_pitch\n\u001b[1;32m     82\u001b[0m #         self.dataframe['Obstacle'] = self.obstacleBool\n\u001b[1;32m     83\u001b[0m #         self.dataframe['IMU'] = self.IMUBool\n\u001b[1;32m     84\u001b[0m #         self.dataframe['Left'] = self.leftBool\n\u001b[1;32m     85\u001b[0m \n\u001b[1;32m     86\u001b[0m #     def get_data_table(self):\n\u001b[1;32m     87\u001b[0m \n\u001b[1;32m     88\u001b[0m #         # Create a dataframe with the data\n\u001b[1;32m     89\u001b[0m #         data = pd.DataFrame(self.markers.reshape(-1,12), columns=self.marker_names)\n\u001b[1;32m     90\u001b[0m \n\u001b[1;32m     91\u001b[0m #     def check_data(self):\n\u001b[1;32m     92\u001b[0m #         \"\"\"\n\u001b[1;32m     93\u001b[0m #         Check that the data are the same length.\n\u001b[1;32m     94\u001b[0m #         \"\"\"\n\u001b[1;32m     95\u001b[0m \n\u001b[1;32m     96\u001b[0m #         num_frames = self.markers.shape[0]\n\u001b[1;32m     97\u001b[0m \n\u001b[1;32m     98\u001b[0m #         if self.horzDist.shape[0] != num_frames:\n\u001b[1;32m     99\u001b[0m #             raise ValueError(\"horzDist must be the same length as keypoints_frames.\")\n\u001b[1;32m    100\u001b[0m         \n\u001b[1;32m    101\u001b[0m #         if len(self.frameID) != num_frames:\n\u001b[1;32m    102\u001b[0m #             raise ValueError(\"frameID must be the same length as keypoints_frames.\")\n\u001b[1;32m    103\u001b[0m         \n\u001b[1;32m    104\u001b[0m #         if self.leftBool.shape[0] != num_frames:\n\u001b[1;32m    105\u001b[0m #             raise ValueError(\"leftBool must be the same length as keypoints_frames.\")\n\u001b[1;32m    106\u001b[0m         \n\u001b[1;32m    107\u001b[0m #         if self.body_pitch.shape[0] != num_frames:\n\u001b[1;32m    108\u001b[0m #             raise ValueError(\"body_pitch must be the same length as keypoints_frames.\")\n\u001b[1;32m    109\u001b[0m         \n\u001b[1;32m    110\u001b[0m #         if self.obstacleBool.shape[0] != num_frames:\n\u001b[1;32m    111\u001b[0m #             raise ValueError(\"obstacleBool must be the same length as keypoints_frames.\")\n\u001b[1;32m    112\u001b[0m         \n\u001b[1;32m    113\u001b[0m #         if self.IMUBool.shape[0] != num_frames:\n\u001b[1;32m    114\u001b[0m #             raise ValueError(\"IMUBool must be the same length as keypoints_frames.\")\n\u001b[1;32m    115\u001b[0m         \n\u001b[1;32m    116\u001b[0m #     def filter_by(self,\n\u001b[1;32m    117\u001b[0m #                   hawk=None,\n\u001b[1;32m    118\u001b[0m #                   perchDist=None, \n\u001b[1;32m    119\u001b[0m #                   obstacle=False, \n\u001b[1;32m    120\u001b[0m #                   year=None, \n\u001b[1;32m    121\u001b[0m #                   Left=None,\n\u001b[1;32m    122\u001b[0m #                   IMU=False):\n\u001b[1;32m    123\u001b[0m #         \"\"\"\n\u001b[1;32m    124\u001b[0m #         Returns boolean array of indices to filter the data.\n\u001b[1;32m    125\u001b[0m #         \"\"\"\n\u001b[1;32m    126\u001b[0m \n\u001b[1;32m    127\u001b[0m #         def filter_by_bool(variable, bool_value):\n\u001b[1;32m    128\u001b[0m \n\u001b[1;32m    129\u001b[0m #             if bool_value is None:\n\u001b[1;32m    130\u001b[0m #                 # Simply return the full array bool mask if passed None\n\u001b[1;32m    131\u001b[0m #                 is_selected = np.ones(variable.shape, dtype=bool)\n\u001b[1;32m    132\u001b[0m #                 return is_selected\n\u001b[1;32m    133\u001b[0m             \n\u001b[1;32m    134\u001b[0m #             is_selected = variable == bool_value\n\u001b[1;32m    135\u001b[0m #             return is_selected\n\u001b[1;32m    136\u001b[0m \n\u001b[1;32m    137\u001b[0m #         # Get frameID\n\u001b[1;32m    138\u001b[0m #         frameID = self.frameID\n\u001b[1;32m    139\u001b[0m \n\u001b[1;32m    140\u001b[0m #         # Initialise the filter\n\u001b[1;32m    141\u001b[0m #         filter = np.ones(len(self.frameID), dtype=bool)\n\u001b[1;32m    142\u001b[0m \n\u001b[1;32m    143\u001b[0m #         # Filter by hawk_ID\n\u001b[1;32m    144\u001b[0m #         if hawk is not None:\n\u001b[1;32m    145\u001b[0m #             filter = np.logical_and(filter, HawkData.filter_by_hawk_ID(frameID, hawk))\n\u001b[1;32m    146\u001b[0m \n\u001b[1;32m    147\u001b[0m #         # Filter by perchDist\n\u001b[1;32m    148\u001b[0m #         if perchDist is not None:\n\u001b[1;32m    149\u001b[0m #             filter = np.logical_and(filter, HawkData.filter_by_perchDist(frameID, perchDist))\n\u001b[1;32m    150\u001b[0m \n\u001b[1;32m    151\u001b[0m #         # Filter by obstacleToggle\n\u001b[1;32m    152\u001b[0m #         # if obstacle is not None:\n\u001b[1;32m    153\u001b[0m #         filter = np.logical_and(filter, filter_by_bool(self.obstacleBool, obstacle))\n\u001b[1;32m    154\u001b[0m \n\u001b[1;32m    155\u001b[0m #         # Filter by IMUToggle\n\u001b[1;32m    156\u001b[0m #         # if IMU is not None:\n\u001b[1;32m    157\u001b[0m #         filter = np.logical_and(filter, filter_by_bool(self.IMUBool, IMU))\n\u001b[1;32m    158\u001b[0m \n\u001b[1;32m    159\u001b[0m #         # Filter by Left\n\u001b[1;32m    160\u001b[0m #         # if Left is not None:\n\u001b[1;32m    161\u001b[0m #         filter = np.logical_and(filter, filter_by_bool(self.leftBool, Left))\n\u001b[1;32m    162\u001b[0m \n\u001b[1;32m    163\u001b[0m #         # Filter by year\n\u001b[1;32m    164\u001b[0m #         # if year is not None:\n\u001b[1;32m    165\u001b[0m #         filter = np.logical_and(filter, HawkData.filter_by_year(frameID,year))\n\u001b[1;32m    166\u001b[0m         \n\u001b[1;32m    167\u001b[0m #         return filter\n\u001b[1;32m    168\u001b[0m \n\u001b[1;32m    169\u001b[0m #     @staticmethod  \n\u001b[1;32m    170\u001b[0m #     def filter_by_hawk_ID(frameID, hawk: str):\n\u001b[1;32m    171\u001b[0m \n\u001b[1;32m    172\u001b[0m #         def get_hawkID(hawk_name):\n\u001b[1;32m    173\u001b[0m \n\u001b[1;32m    174\u001b[0m #             if hawk_name.isdigit():\n\u001b[1;32m    175\u001b[0m #                 # Transform the hawk_ID into a string with the correct format\n\u001b[1;32m    176\u001b[0m #                 hawk_ID = str(hawk_name).zfill(2) + \"_\"\n\u001b[1;32m    177\u001b[0m                 \n\u001b[1;32m    178\u001b[0m #             # The user may have provided the full name of the hawk, or just the first few letters\n\u001b[1;32m    179\u001b[0m #             # And so returns the matching ID.\n\u001b[1;32m    180\u001b[0m \n\u001b[1;32m    181\u001b[0m #             if \"dr\" in hawk_name.lower():\n\u001b[1;32m    182\u001b[0m #                 hawk_ID = \"01_\"  \n\u001b[1;32m    183\u001b[0m #             if \"rh\" in hawk_name.lower():\n\u001b[1;32m    184\u001b[0m #                 hawk_ID = \"02_\"\n\u001b[1;32m    185\u001b[0m #             if \"ru\" in hawk_name.lower():\n\u001b[1;32m    186\u001b[0m #                 hawk_ID = \"03_\"  \n\u001b[1;32m    187\u001b[0m #             if \"to\" in hawk_name.lower():\n\u001b[1;32m    188\u001b[0m #                 hawk_ID = \"04_\"  \n\u001b[1;32m    189\u001b[0m #             if \"ch\" in hawk_name.lower():\n\u001b[1;32m    190\u001b[0m #                 hawk_ID = \"05_\"\n\u001b[1;32m    191\u001b[0m             \n\u001b[1;32m    192\u001b[0m #             return hawk_ID\n\u001b[1;32m    193\u001b[0m         \n\u001b[1;32m    194\u001b[0m #         if hawk is None:\n\u001b[1;32m    195\u001b[0m #             is_selected = np.ones(len(frameID), dtype=bool)\n\u001b[1;32m    196\u001b[0m #             return is_selected\n\u001b[1;32m    197\u001b[0m #         else:\n\u001b[1;32m    198\u001b[0m #             hawk_ID = get_hawkID(hawk)\n\u001b[1;32m    199\u001b[0m \n\u001b[1;32m    200\u001b[0m #         is_selected = frameID.str.startswith(hawk_ID)\n\u001b[1;32m    201\u001b[0m \n\u001b[1;32m    202\u001b[0m #         return is_selected\n\u001b[1;32m    203\u001b[0m     \n\u001b[1;32m    204\u001b[0m #     @staticmethod\n\u001b[1;32m    205\u001b[0m #     def filter_by_perchDist(frameID, perchDist):\n\u001b[1;32m    206\u001b[0m \n\u001b[1;32m    207\u001b[0m #         # If perchDist is None, return the full array bool mask\n\u001b[1;32m    208\u001b[0m #         if perchDist is None:\n\u001b[1;32m    209\u001b[0m #             is_selected = np.ones(frameID, dtype=bool)\n\u001b[1;32m    210\u001b[0m #             return is_selected\n\u001b[1;32m    211\u001b[0m         \n\u001b[1;32m    212\u001b[0m \n\u001b[1;32m    213\u001b[0m #         # Get any number from the perchDist string. The user may have given \n\u001b[1;32m    214\u001b[0m #         # \"12m\" or \"12 m\" or \"12\"\n\u001b[1;32m    215\u001b[0m #         if perchDist.isdigit():\n\u001b[1;32m    216\u001b[0m #             perchDist = int(perchDist)\n\u001b[1;32m    217\u001b[0m #         else:\n\u001b[1;32m    218\u001b[0m #             perchDist = int(''.join(filter(str.isdigit, perchDist)))\n\u001b[1;32m    219\u001b[0m \n\u001b[1;32m    220\u001b[0m #         # Build back up the string to search for\n\u001b[1;32m    221\u001b[0m #         # Make sure the integer is padded such that it is 2 digits in length\n\u001b[1;32m    222\u001b[0m #         perchDist_str = \"_\" + str(perchDist).zfill(2) + \"_\"\n\u001b[1;32m    223\u001b[0m         \n\u001b[1;32m    224\u001b[0m #         # Now looks for _05_ or _12_ etc in the frameID. Note, 05_09_ would be \n\u001b[1;32m    225\u001b[0m #         # charmander flying 9m so we need to make sure we don't select that by leading \n\u001b[1;32m    226\u001b[0m #         # and trailing _ . HawkID should always be found with \"startswith\". \n\u001b[1;32m    227\u001b[0m \n\u001b[1;32m    228\u001b[0m #         is_selected = frameID.str.contains(perchDist_str)\n\u001b[1;32m    229\u001b[0m         \n\u001b[1;32m    230\u001b[0m #         return is_selected\n\u001b[1;32m    231\u001b[0m \n\u001b[1;32m    232\u001b[0m #     @staticmethod\n\u001b[1;32m    233\u001b[0m #     def filter_by_year(frameID, year):\n\u001b[1;32m    234\u001b[0m         \n\u001b[1;32m    235\u001b[0m #         if year is None:\n\u001b[1;32m    236\u001b[0m #             is_selected = np.ones(len(frameID), dtype=bool)\n\u001b[1;32m    237\u001b[0m #             return is_selected\n\u001b[1;32m    238\u001b[0m \n\u001b[1;32m    239\u001b[0m #         # Data from 2017 and 2020 have different frameID formats, \n\u001b[1;32m    240\u001b[0m #         # there's an extra _ in the frameID for 2020\n\u001b[1;32m    241\u001b[0m #         if year == 2017:\n\u001b[1;32m    242\u001b[0m #             is_selected = frameID.str.count('_') == 3\n\u001b[1;32m    243\u001b[0m #         elif year == 2020:\n\u001b[1;32m    244\u001b[0m #             is_selected = frameID.str.count('_') == 4\n\u001b[1;32m    245\u001b[0m #         else:\n\u001b[1;32m    246\u001b[0m #             raise ValueError(\"Year must be 2017 or 2020.\")\n\u001b[1;32m    247\u001b[0m         \n\u001b[1;32m    248\u001b[0m #         return is_selected\n\u001b[1;32m    249\u001b[0m \n\u001b[1;32m    250\u001b[0m \n\u001b[1;32m    251\u001b[0m # class KeypointManager:\n\u001b[1;32m    252\u001b[0m \n\u001b[1;32m    253\u001b[0m #     right_marker_names = [\n\u001b[1;32m    254\u001b[0m #         \"right_wingtip\", \n\u001b[1;32m    255\u001b[0m #         \"right_primary\", \n\u001b[1;32m    256\u001b[0m #         \"right_secondary\",\n\u001b[1;32m    257\u001b[0m #         \"right_tailtip\"]\n\u001b[1;32m    258\u001b[0m     \n\u001b[1;32m    259\u001b[0m #     left_marker_names = [\n\u001b[1;32m    260\u001b[0m #         \"left_wingtip\", \n\u001b[1;32m    261\u001b[0m #         \"left_primary\", \n\u001b[1;32m    262\u001b[0m #         \"left_secondary\",\n\u001b[1;32m    263\u001b[0m #         \"left_tailtip\"]\n\u001b[1;32m    264\u001b[0m     \n\u001b[1;32m    265\u001b[0m #     marker_names = [\n\u001b[1;32m    266\u001b[0m #         \"left_wingtip\",   \"right_wingtip\", \n\u001b[1;32m    267\u001b[0m #         \"left_primary\",   \"right_primary\", \n\u001b[1;32m    268\u001b[0m #         \"left_secondary\", \"right_secondary\", \n\u001b[1;32m    269\u001b[0m #         \"left_tailtip\",   \"right_tailtip\"]\n\u001b[1;32m    270\u001b[0m     \n\u001b[1;32m    271\u001b[0m #     fixed_marker_names = [\n\u001b[1;32m    272\u001b[0m #         \"left_shoulder\", \n\u001b[1;32m    273\u001b[0m #         \"left_tailbase\", \n\u001b[1;32m    274\u001b[0m #         \"right_tailbase\", \n\u001b[1;32m    275\u001b[0m #         \"right_shoulder\",\n\u001b[1;32m    276\u001b[0m #         \"hood\", \n\u001b[1;32m    277\u001b[0m #         \"tailpack\"\n\u001b[1;32m    278\u001b[0m #     ]\n\u001b[1;32m    279\u001b[0m \n\u001b[1;32m    280\u001b[0m #     def __init__(self, filename):\n\u001b[1;32m    281\u001b[0m \n\u001b[1;32m    282\u001b[0m #         # Get the keypoint data from file.\n\u001b[1;32m    283\u001b[0m #         self.load_data(filename)\n\u001b[1;32m    284\u001b[0m         \n\u001b[1;32m    285\u001b[0m #     def load_data(self,filename):\n\u001b[1;32m    286\u001b[0m \n\u001b[1;32m    287\u001b[0m #         # load the data\n\u001b[1;32m    288\u001b[0m #         with open(filename, 'r') as file:\n\u001b[1;32m    289\u001b[0m #             data = np.loadtxt(file, delimiter=',', skiprows=0, dtype='str')\n\u001b[1;32m    290\u001b[0m         \n\u001b[1;32m    291\u001b[0m #         # Get the marker names from the first row of the csv file, \n\u001b[1;32m    292\u001b[0m #         # get every 3rd name and remove the '_x' from the names\n\u001b[1;32m    293\u001b[0m #         csv_keypoint_names = data[0].reshape(-1, 3)\n\u001b[1;32m    294\u001b[0m #         csv_keypoint_names = list(np.char.strip(csv_keypoint_names[:, 0], '_x'))\n\u001b[1;32m    295\u001b[0m \n\u001b[1;32m    296\u001b[0m #         # Save the keypoint names\n\u001b[1;32m    297\u001b[0m #         self.csv_keypoint_names = csv_keypoint_names\n\u001b[1;32m    298\u001b[0m \n\u001b[1;32m    299\u001b[0m \n\u001b[1;32m    300\u001b[0m #         # Load marker coordinates and reshape to [n,3] matrix where n is the\n\u001b[1;32m    301\u001b[0m #         # number of markers\n\u001b[1;32m    302\u001b[0m #         keypoints = data[1].astype(float)\n\u001b[1;32m    303\u001b[0m #         keypoints = keypoints.reshape(-1, 3) # [n,3]\n\u001b[1;32m    304\u001b[0m \n\u001b[1;32m    305\u001b[0m #         # Get the indices of the markers\n\u001b[1;32m    306\u001b[0m #         self.right_marker_index = self.get_keypoint_indices(self.right_marker_names)\n\u001b[1;32m    307\u001b[0m #         self.left_marker_index  = self.get_keypoint_indices(self.left_marker_names)\n\u001b[1;32m    308\u001b[0m #         self.marker_index       = self.get_keypoint_indices(self.marker_names)\n\u001b[1;32m    309\u001b[0m #         self.fixed_marker_index = self.get_keypoint_indices(self.fixed_marker_names)\n\u001b[1;32m    310\u001b[0m \n\u001b[1;32m    311\u001b[0m #         # Save the keypoints, and a safe copy. \n\u001b[1;32m    312\u001b[0m #         self.keypoints_original = np.copy(keypoints)\n\u001b[1;32m    313\u001b[0m #         self.keypoints = keypoints\n\u001b[1;32m    314\u001b[0m \n\u001b[1;32m    315\u001b[0m #     def get_keypoint_indices(self,names_to_find=None):\n\u001b[1;32m    316\u001b[0m #             \"\"\"\n\u001b[1;32m    317\u001b[0m #             Returns the indices of the keypoints with the given names.\n\u001b[1;32m    318\u001b[0m #             \"\"\"\n\u001b[1;32m    319\u001b[0m #             csv_keypoint_names = self.csv_keypoint_names\n\u001b[1;32m    320\u001b[0m \n\u001b[1;32m    321\u001b[0m #             # If no names are given, use all the marker names (not the fixed ones)\n\u001b[1;32m    322\u001b[0m #             if names_to_find is None:\n\u001b[1;32m    323\u001b[0m #                 names_to_find = self.marker_names\n\u001b[1;32m    324\u001b[0m \n\u001b[1;32m    325\u001b[0m #             indices = [csv_keypoint_names.index(name) for name in names_to_find]\n\u001b[1;32m    326\u001b[0m \n\u001b[1;32m    327\u001b[0m #             return indices\n\u001b[1;32m    328\u001b[0m     \n\u001b[1;32m    329\u001b[0m #     def validate_keypoints(self,keypoints):\n\u001b[1;32m    330\u001b[0m \n\u001b[1;32m    331\u001b[0m #         # First check they are not empty\n\u001b[1;32m    332\u001b[0m #         if self.is_empty_keypoints(keypoints):\n\u001b[1;32m    333\u001b[0m #             raise ValueError(\"No keypoints given.\")\n\u001b[1;32m    334\u001b[0m         \n\u001b[1;32m    335\u001b[0m #         # Check they are in 3D\n\u001b[1;32m    336\u001b[0m #         if keypoints.shape[-1] != 3:\n\u001b[1;32m    337\u001b[0m #             raise ValueError(\"Keypoints not in 3D.\")\n\u001b[1;32m    338\u001b[0m         \n\u001b[1;32m    339\u001b[0m #         # If [4,3] or [8,3] is given, reshape to [1,4,3] or [1,8,3]\n\u001b[1;32m    340\u001b[0m #         if len(np.shape(keypoints)) == 2:\n\u001b[1;32m    341\u001b[0m #             keypoints = keypoints.reshape(1, -1, 3)\n\u001b[1;32m    342\u001b[0m \n\u001b[1;32m    343\u001b[0m #         # If [1,4,3] is given, mirror it to make [1,8,3]\n\u001b[1;32m    344\u001b[0m #         if keypoints.shape[1] == len(self.right_marker_names):\n\u001b[1;32m    345\u001b[0m #             keypoints = self._mirror_keypoints(keypoints)\n\u001b[1;32m    346\u001b[0m \n\u001b[1;32m    347\u001b[0m #         # Then check there are enough keypoints\n\u001b[1;32m    348\u001b[0m #         if keypoints.shape[1] != len(self.marker_names):\n\u001b[1;32m    349\u001b[0m #             raise ValueError(\"Keypoints missing.\")\n\u001b[1;32m    350\u001b[0m         \n\u001b[1;32m    351\u001b[0m #         return keypoints\n\u001b[1;32m    352\u001b[0m         \n\u001b[1;32m    353\u001b[0m #     def update_keypoints(self,user_keypoints):\n\u001b[1;32m    354\u001b[0m #         \"\"\" \n\u001b[1;32m    355\u001b[0m #         Assumes the keypoints from the user are in the same order as the\n\u001b[1;32m    356\u001b[0m #         marker names.\n\u001b[1;32m    357\u001b[0m #         State changes Hawk3D.keypoints. \n\u001b[1;32m    358\u001b[0m #         \"\"\"\n\u001b[1;32m    359\u001b[0m \n\u001b[1;32m    360\u001b[0m \n\u001b[1;32m    361\u001b[0m #         # First validate the keypoints. This will mirror them \n\u001b[1;32m    362\u001b[0m #         # if only the right side is given. Also checks they are in 3D and \n\u001b[1;32m    363\u001b[0m #         # will return [n,8,3]. \n\u001b[1;32m    364\u001b[0m \n\u001b[0;32m--> 365\u001b[0m #         user_keypoints = self.validate_keypoints(user_keypoints)\n\u001b[1;32m    366\u001b[0m \n\u001b[1;32m    367\u001b[0m #         # Update the keypoints with the user marker info. \n\u001b[1;32m    368\u001b[0m #         self.keypoints[self.marker_index] = user_keypoints\n\u001b[1;32m    369\u001b[0m \n\u001b[1;32m    370\u001b[0m #     def transform_keypoints(self,\n\u001b[1;32m    371\u001b[0m #                             horzDist=None,\n\u001b[1;32m    372\u001b[0m #                             bodypitch=None, \n\u001b[1;32m    373\u001b[0m #                             vertDist=None):\n\u001b[1;32m    374\u001b[0m         \n\u001b[1;32m    375\u001b[0m #         \"\"\"\n\u001b[1;32m    376\u001b[0m #         If any of the parameters are None, they are not applied. \n\u001b[1;32m    377\u001b[0m #         \"\"\"\n\u001b[1;32m    378\u001b[0m         \n\u001b[1;32m    379\u001b[0m #         # Make an unaltered copy of the keypoints\n\u001b[1;32m    380\u001b[0m #         if horzDist is not None or bodypitch is not None or vertDist is not None:\n\u001b[1;32m    381\u001b[0m #             self.keypoints_no_translation = np.copy(self.keypoints)\n\u001b[1;32m    382\u001b[0m #         else:\n\u001b[1;32m    383\u001b[0m #             self.keypoints_no_translation = None\n\u001b[1;32m    384\u001b[0m #             print(\"No transformation applied.\")\n\u001b[1;32m    385\u001b[0m #             return\n\u001b[1;32m    386\u001b[0m \n\u001b[1;32m    387\u001b[0m #         if bodypitch is not None:\n\u001b[1;32m    388\u001b[0m #             self.add_pitchRotation(bodypitch)\n\u001b[1;32m    389\u001b[0m         \n\u001b[1;32m    390\u001b[0m #         if horzDist is not None:\n\u001b[1;32m    391\u001b[0m #             self.add_horzDist(horzDist)\n\u001b[1;32m    392\u001b[0m #             # print(\"Horizontal translation applied.\")\n\u001b[1;32m    393\u001b[0m \n\u001b[1;32m    394\u001b[0m #         if vertDist is not None:\n\u001b[1;32m    395\u001b[0m #             self.add_vertDist(vertDist)\n\u001b[1;32m    396\u001b[0m \n\u001b[1;32m    397\u001b[0m #         return self.keypoints\n\u001b[1;32m    398\u001b[0m     \n\u001b[1;32m    399\u001b[0m #     def restore_keypoints(self):\n\u001b[1;32m    400\u001b[0m \n\u001b[1;32m    401\u001b[0m #         \"\"\"\n\u001b[1;32m    402\u001b[0m #         Makes the keypoints return to the previous \n\u001b[1;32m    403\u001b[0m #         state with no translation or rotation.\n\u001b[1;32m    404\u001b[0m #         \"\"\"\n\u001b[1;32m    405\u001b[0m \n\u001b[1;32m    406\u001b[0m #         if self.keypoints_no_translation is None:\n\u001b[1;32m    407\u001b[0m #             print(\"No previous keypoints to restore.\")\n\u001b[1;32m    408\u001b[0m #             return\n\u001b[1;32m    409\u001b[0m         \n\u001b[1;32m    410\u001b[0m #         self.keypoints = self.keypoints_no_translation\n\u001b[1;32m    411\u001b[0m #         self.keypoints_no_translation = None\n\u001b[1;32m    412\u001b[0m \n\u001b[1;32m    413\u001b[0m #     def add_pitchRotation(self, bodypitch):\n\u001b[1;32m    414\u001b[0m \n\u001b[1;32m    415\u001b[0m #         if bodypitch is None:\n\u001b[1;32m    416\u001b[0m #             return\n\u001b[1;32m    417\u001b[0m     \n\u001b[1;32m    418\u001b[0m #         rotmat = R.from_euler('x', bodypitch, degrees=True)\n\u001b[1;32m    419\u001b[0m #         rot_keypoints = rotmat.apply(self.keypoints)\n\u001b[1;32m    420\u001b[0m \n\u001b[1;32m    421\u001b[0m         \n\u001b[1;32m    422\u001b[0m #         self.keypoints = rot_keypoints\n\u001b[1;32m    423\u001b[0m         \n\u001b[1;32m    424\u001b[0m #     def add_horzDist(self, horzDist):\n\u001b[1;32m    425\u001b[0m #         if horzDist is None:\n\u001b[1;32m    426\u001b[0m #             return\n\u001b[1;32m    427\u001b[0m \n\u001b[1;32m    428\u001b[0m #         self.keypoints[:,1] += horzDist\n\u001b[1;32m    429\u001b[0m     \n\u001b[1;32m    430\u001b[0m #     def add_vertDist(self, vertDist):\n\u001b[1;32m    431\u001b[0m #         if vertDist is None:\n\u001b[1;32m    432\u001b[0m #             return\n\u001b[1;32m    433\u001b[0m \n\u001b[1;32m    434\u001b[0m #         self.keypoints[:,2] += vertDist\n\u001b[1;32m    435\u001b[0m         \n\u001b[1;32m    436\u001b[0m #     @staticmethod\n\u001b[1;32m    437\u001b[0m #     def _mirror_keypoints(keypoints):\n\u001b[1;32m    438\u001b[0m #         \"\"\"\n\u001b[1;32m    439\u001b[0m #         Mirrors keypoints across the y-axis.\n\u001b[1;32m    440\u001b[0m #         \"\"\"\n\u001b[1;32m    441\u001b[0m #         mirrored = np.copy(keypoints)\n\u001b[1;32m    442\u001b[0m #         mirrored[:, :, 0] *= -1\n\u001b[1;32m    443\u001b[0m \n\u001b[1;32m    444\u001b[0m #         nFrames, nMarkers, nCoords = np.shape(keypoints)\n\u001b[1;32m    445\u001b[0m \n\u001b[1;32m    446\u001b[0m #         # Create [n,8,3] array\n\u001b[1;32m    447\u001b[0m #         new_keypoints = np.empty((nFrames, nMarkers * 2, nCoords),\n\u001b[1;32m    448\u001b[0m #                                  dtype=keypoints.dtype)\n\u001b[1;32m    449\u001b[0m         \n\u001b[1;32m    450\u001b[0m #         new_keypoints[:, 0::2, :] = mirrored\n\u001b[1;32m    451\u001b[0m #         new_keypoints[:, 1::2, :] = keypoints\n\u001b[1;32m    452\u001b[0m \n\u001b[1;32m    453\u001b[0m #         return new_keypoints\n\u001b[1;32m    454\u001b[0m \n\u001b[1;32m    455\u001b[0m #     @staticmethod\n\u001b[1;32m    456\u001b[0m #     def is_empty_keypoints(keypoints):\n\u001b[1;32m    457\u001b[0m #         if isinstance(keypoints, np.ndarray) and keypoints.size > 0:\n\u001b[1;32m    458\u001b[0m #             return False\n\u001b[1;32m    459\u001b[0m #         else:\n\u001b[1;32m    460\u001b[0m #             return True\n\u001b[1;32m    461\u001b[0m         \n\u001b[1;32m    462\u001b[0m #     def validate_frames(self, keypoints_frames):\n\u001b[1;32m    463\u001b[0m #         \"\"\"\n\u001b[1;32m    464\u001b[0m #         Validates the keypoints_frames and returns a list of keypoints for each frame.\n\u001b[1;32m    465\u001b[0m #         \"\"\"\n\u001b[1;32m    466\u001b[0m #         if not isinstance(keypoints_frames, list):\n\u001b[1;32m    467\u001b[0m #             keypoints_frames = [keypoints_frames]\n\u001b[1;32m    468\u001b[0m #         for ii, keypoints in enumerate(keypoints_frames):\n\u001b[1;32m    469\u001b[0m \n\u001b[1;32m    470\u001b[0m #             # The if statement is to ensure that all keypoint sequences have the same length\n\u001b[1;32m    471\u001b[0m #             if ii > 0 and keypoints.shape[0] != keypoints_frames[ii - 1].shape[0]:\n\u001b[1;32m    472\u001b[0m #                 raise ValueError(\"All keypoint sequences must have the same length\")\n\u001b[1;32m    473\u001b[0m             \n\u001b[1;32m    474\u001b[0m #             keypoints_frames[ii] = self._validate_keypoints(keypoints)\n\u001b[1;32m    475\u001b[0m #         return keypoints_frames\n\u001b[1;32m    476\u001b[0m     \n\u001b[1;32m    477\u001b[0m \n\u001b[1;32m    478\u001b[0m # class HawkAnimator:\n\u001b[1;32m    479\u001b[0m #     def __init__(self, plotter):\n\u001b[1;32m    480\u001b[0m \n\u001b[1;32m    481\u001b[0m #         \"\"\" \n\u001b[1;32m    482\u001b[0m #         Uses the HawkPlotter class to create an animated 3D plot of a hawk video.\n\u001b[1;32m    483\u001b[0m         \n\u001b[1;32m    484\u001b[0m #         \"\"\"\n\u001b[1;32m    485\u001b[0m #         self.plotter = plotter\n\u001b[1;32m    486\u001b[0m \n\u001b[1;32m    487\u001b[0m #     def _format_keypoint_frames(self, keypoints_frames):\n\u001b[1;32m    488\u001b[0m \n\u001b[1;32m    489\u001b[0m #         \"\"\"\n\u001b[1;32m    490\u001b[0m #         Formats the keypoints_frames to be [n,8,3] where n is the number of frames \n\u001b[1;32m    491\u001b[0m #         and 8 is the number of keypoints and 3 is the number of dimensions.\n\u001b[1;32m    492\u001b[0m #         If just 4 keypoints are given, the function will mirror the keypoints to make the left side.\n\u001b[1;32m    493\u001b[0m #         \"\"\"\n\u001b[1;32m    494\u001b[0m \n\u001b[1;32m    495\u001b[0m #         if len(np.shape(keypoints_frames)) == 2:\n\u001b[1;32m    496\u001b[0m #             keypoints_frames = keypoints_frames.reshape(1, -1, 3)\n\u001b[1;32m    497\u001b[0m #             print(\"Warning: Only one frame given.\")\n\u001b[1;32m    498\u001b[0m \n\u001b[1;32m    499\u001b[0m #     # Mirror the keypoints_frames if only the right is given. \n\u001b[1;32m    500\u001b[0m #         if keypoints_frames.shape[1] == len(self.plotter.keypoint_manager.names_right_keypoints):\n\u001b[1;32m    501\u001b[0m #             keypoints_frames = self.plotter.keypoint_manager._mirror_keypoints(keypoints_frames)\n\u001b[1;32m    502\u001b[0m \n\u001b[1;32m    503\u001b[0m #         return keypoints_frames\n\u001b[1;32m    504\u001b[0m         \n\u001b[1;32m    505\u001b[0m #     def animate(self, \n\u001b[1;32m    506\u001b[0m #                 keypoints_frames, \n\u001b[1;32m    507\u001b[0m #                 fig=None, \n\u001b[1;32m    508\u001b[0m #                 ax=None, \n\u001b[1;32m    509\u001b[0m #                 rotation_type=\"static\", \n\u001b[1;32m    510\u001b[0m #                 el=20, \n\u001b[1;32m    511\u001b[0m #                 az=60, \n\u001b[1;32m    512\u001b[0m #                 alpha=0.3, \n\u001b[1;32m    513\u001b[0m #                 colour=None, \n\u001b[1;32m    514\u001b[0m #                 horzDist_frames=None, \n\u001b[1;32m    515\u001b[0m #                 bodypitch_frames=None):\n\u001b[1;32m    516\u001b[0m #         \"\"\"\n\u001b[1;32m    517\u001b[0m #         Create an animated 3D plot of a hawk video.\n\u001b[1;32m    518\u001b[0m #         \"\"\"\n\u001b[1;32m    519\u001b[0m \n\u001b[1;32m    520\u001b[0m #         # Mirror the keypoints if only the right is given.\n\u001b[1;32m    521\u001b[0m #         keypoints_frames = self._format_keypoint_frames(keypoints_frames)\n\u001b[1;32m    522\u001b[0m \n\u001b[1;32m    523\u001b[0m #         # Find the number of frames \n\u001b[1;32m    524\u001b[0m #         num_frames = keypoints_frames.shape[0]\n\u001b[1;32m    525\u001b[0m \n\u001b[1;32m    526\u001b[0m \n\u001b[1;32m    527\u001b[0m #         # Initialize figure and axes\n\u001b[1;32m    528\u001b[0m #         if ax is None:\n\u001b[1;32m    529\u001b[0m #             fig, ax = self.plotter.get_plot3d_view(fig)\n\u001b[1;32m    530\u001b[0m \n\u001b[1;32m    531\u001b[0m #         # Prepare camera angles\n\u001b[1;32m    532\u001b[0m #         el_frames, az_frames = self.get_camera_angles(num_frames=num_frames, \n\u001b[1;32m    533\u001b[0m #                                                       rotation_type=rotation_type, \n\u001b[1;32m    534\u001b[0m #                                                       el=el, \n\u001b[1;32m    535\u001b[0m #                                                       az=az)\n\u001b[1;32m    536\u001b[0m         \n\u001b[1;32m    537\u001b[0m #         # Check if the horzDist_frames is given, if so check it is the correct length\n\u001b[1;32m    538\u001b[0m #         if horzDist_frames is not None:\n\u001b[1;32m    539\u001b[0m #             if len(horzDist_frames) != num_frames:\n\u001b[1;32m    540\u001b[0m #                 raise ValueError(\"horzDist_frames must be the same length as keypoints_frames.\")\n\u001b[1;32m    541\u001b[0m             \n\u001b[1;32m    542\u001b[0m #         # Check if the bodypitch_frames is given, if so check it is the correct length\n\u001b[1;32m    543\u001b[0m #         if bodypitch_frames is not None:\n\u001b[1;32m    544\u001b[0m #             if len(bodypitch_frames) != num_frames:\n\u001b[1;32m    545\u001b[0m #                 raise ValueError(\"bodypitch_frames must be the same length as keypoints_frames.\")\n\u001b[1;32m    546\u001b[0m             \n\u001b[1;32m    547\u001b[0m #         # Plot settings\n\u001b[1;32m    548\u001b[0m #         self.plotter._plot_settings(ax, horzDist=0 if horzDist_frames is None else horzDist_frames)\n\u001b[1;32m    549\u001b[0m \n\u001b[1;32m    550\u001b[0m         \n\u001b[1;32m    551\u001b[0m #         def update_animated_plot(frame, *fargs):\n\u001b[1;32m    552\u001b[0m #             \"\"\"\n\u001b[1;32m    553\u001b[0m #             Function to update the animated plot.\n\u001b[1;32m    554\u001b[0m #             \"\"\"\n\u001b[1;32m    555\u001b[0m \n\u001b[1;32m    556\u001b[0m #             fig, ax, keypoints, el_frames, az_frames, alpha, colour, horzDist_frames, bodypitch_frames = fargs\n\u001b[1;32m    557\u001b[0m #             ax.clear()\n\u001b[1;32m    558\u001b[0m #             # Here, you need to adjust how keypoints for the current frame are passed to plot\n\u001b[1;32m    559\u001b[0m #             self.plotter.plot(keypoints=keypoints[frame], \n\u001b[1;32m    560\u001b[0m #                               fig=fig, \n\u001b[1;32m    561\u001b[0m #                               ax=ax, \n\u001b[1;32m    562\u001b[0m #                               el=el_frames[frame], \n\u001b[1;32m    563\u001b[0m #                               az=az_frames[frame], \n\u001b[1;32m    564\u001b[0m #                               alpha=alpha, \n\u001b[1;32m    565\u001b[0m #                               colour=colour, \n\u001b[1;32m    566\u001b[0m #                               horzDist=horzDist_frames[frame] if horzDist_frames else None, \n\u001b[1;32m    567\u001b[0m #                               bodypitch=bodypitch_frames[frame] if bodypitch_frames else None)\n\u001b[1;32m    568\u001b[0m #             return fig, ax\n\u001b[1;32m    569\u001b[0m \n\u001b[1;32m    570\u001b[0m #         # Creating the animation\n\u001b[1;32m    571\u001b[0m #         animation = FuncAnimation(fig, update_animated_plot, \n\u001b[1;32m    572\u001b[0m #                                   frames=num_frames, \n\u001b[1;32m    573\u001b[0m #                                   fargs=(fig, ax, keypoints_frames, el_frames, az_frames, alpha, colour, horzDist_frames, bodypitch_frames), \n\u001b[1;32m    574\u001b[0m #                                   interval=20, repeat=True)\n\u001b[1;32m    575\u001b[0m         \n\u001b[1;32m    576\u001b[0m #         return animation\n\u001b[1;32m    577\u001b[0m \n\u001b[1;32m    578\u001b[0m #     def get_camera_angles(self,num_frames, rotation_type, el=20, az=60):\n\u001b[1;32m    579\u001b[0m #         \"\"\"\n\u001b[1;32m    580\u001b[0m #         Creates two arrays of camera angles for the length of the animation.\n\u001b[1;32m    581\u001b[0m \n\u001b[1;32m    582\u001b[0m #         \"static\" -- the angles do not change in the animation, set using el, az.\n\u001b[1;32m    583\u001b[0m \n\u001b[1;32m    584\u001b[0m #         \"dynamic\" -- fast rotations\n\u001b[1;32m    585\u001b[0m \n\u001b[1;32m    586\u001b[0m #         \"slow\" -- slow rotations\n\u001b[1;32m    587\u001b[0m \n\u001b[1;32m    588\u001b[0m #         Used in: Creates inputs for plot_hawk3D_frame\n\u001b[1;32m    589\u001b[0m #         \"\"\"\n\u001b[1;32m    590\u001b[0m \n\u001b[1;32m    591\u001b[0m #         if el is None or az is None:\n\u001b[1;32m    592\u001b[0m #             return [None, None]\n\u001b[1;32m    593\u001b[0m \n\u001b[1;32m    594\u001b[0m #         def linspacer(number_array, firstValue, endValue, nFrames):\n\u001b[1;32m    595\u001b[0m #             \"\"\"\n\u001b[1;32m    596\u001b[0m #             Function to make linearly spaced numbers between two values of a\n\u001b[1;32m    597\u001b[0m #             given length.\n\u001b[1;32m    598\u001b[0m #             \"\"\"\n\u001b[1;32m    599\u001b[0m \n\u001b[1;32m    600\u001b[0m #             number_array = np.append(\n\u001b[1;32m    601\u001b[0m #                 number_array, np.linspace(firstValue, endValue, nFrames))\n\u001b[1;32m    602\u001b[0m #             return number_array\n\u001b[1;32m    603\u001b[0m \n\u001b[1;32m    604\u001b[0m #         if \"dynamic\" in rotation_type:\n\u001b[1;32m    605\u001b[0m \n\u001b[1;32m    606\u001b[0m #             tenthFrames = round(num_frames * 0.1)\n\u001b[1;32m    607\u001b[0m #             remainderFrames = num_frames - (tenthFrames * 9)\n\u001b[1;32m    608\u001b[0m \n\u001b[1;32m    609\u001b[0m #             az_frames = np.linspace(40, 40, tenthFrames)\n\u001b[1;32m    610\u001b[0m #             az_frames = linspacer(az_frames, 40, 10, tenthFrames)\n\u001b[1;32m    611\u001b[0m #             az_frames = linspacer(az_frames, 10, 10, tenthFrames)\n\u001b[1;32m    612\u001b[0m #             az_frames = linspacer(az_frames, 10, 90, tenthFrames)\n\u001b[1;32m    613\u001b[0m #             az_frames = linspacer(az_frames, 90, 90, tenthFrames * 2)\n\u001b[1;32m    614\u001b[0m #             az_frames = linspacer(az_frames, 90, -90, tenthFrames)\n\u001b[1;32m    615\u001b[0m #             az_frames = linspacer(az_frames, -90, -90, tenthFrames)\n\u001b[1;32m    616\u001b[0m #             az_frames = linspacer(az_frames, -90, 40, tenthFrames)\n\u001b[1;32m    617\u001b[0m #             az_frames = linspacer(az_frames, 40, 40, remainderFrames)\n\u001b[1;32m    618\u001b[0m \n\u001b[1;32m    619\u001b[0m #             el_frames = np.linspace(20, 20, tenthFrames)\n\u001b[1;32m    620\u001b[0m #             el_frames = linspacer(el_frames, 20, 15, tenthFrames)\n\u001b[1;32m    621\u001b[0m #             el_frames = linspacer(el_frames, 15, 0, tenthFrames)\n\u001b[1;32m    622\u001b[0m #             el_frames = linspacer(el_frames, 0, 0, tenthFrames)\n\u001b[1;32m    623\u001b[0m #             el_frames = linspacer(el_frames, 0, 80, tenthFrames)\n\u001b[1;32m    624\u001b[0m #             el_frames = linspacer(el_frames, 80, 80, tenthFrames)\n\u001b[1;32m    625\u001b[0m #             el_frames = linspacer(el_frames, 80, 15, tenthFrames)\n\u001b[1;32m    626\u001b[0m #             el_frames = linspacer(el_frames, 15, 15, tenthFrames)\n\u001b[1;32m    627\u001b[0m #             el_frames = linspacer(el_frames, 15, 20, tenthFrames)\n\u001b[1;32m    628\u001b[0m #             el_frames = linspacer(el_frames, 20, 20, remainderFrames)\n\u001b[1;32m    629\u001b[0m \n\u001b[1;32m    630\u001b[0m #         elif \"slow\" in rotation_type:\n\u001b[1;32m    631\u001b[0m \n\u001b[1;32m    632\u001b[0m #             halfFrames = round(num_frames * 0.5)\n\u001b[1;32m    633\u001b[0m #             tenthFrames = round(num_frames * 0.1)\n\u001b[1;32m    634\u001b[0m #             remainderFrames = num_frames - (halfFrames + (tenthFrames * 2) +\n\u001b[1;32m    635\u001b[0m #                                             tenthFrames + tenthFrames)\n\u001b[1;32m    636\u001b[0m \n\u001b[1;32m    637\u001b[0m #             az_frames = np.linspace(90, 90, halfFrames)\n\u001b[1;32m    638\u001b[0m #             az_frames = linspacer(az_frames, 90, -90,\n\u001b[1;32m    639\u001b[0m #                                   tenthFrames)  # Switch to back\n\u001b[1;32m    640\u001b[0m #             az_frames = linspacer(az_frames, -90, -90, tenthFrames * 2)\n\u001b[1;32m    641\u001b[0m #             az_frames = linspacer(az_frames, -90, 90,\n\u001b[1;32m    642\u001b[0m #                                   tenthFrames)  # Switch to front\n\u001b[1;32m    643\u001b[0m #             az_frames = linspacer(az_frames, 90, 90, remainderFrames)\n\u001b[1;32m    644\u001b[0m \n\u001b[1;32m    645\u001b[0m #             remainderFrames = num_frames - (tenthFrames * 9)\n\u001b[1;32m    646\u001b[0m \n\u001b[1;32m    647\u001b[0m #             el_frames = np.linspace(80, 80, tenthFrames * 2)\n\u001b[1;32m    648\u001b[0m #             el_frames = linspacer(el_frames, 80, 20,\n\u001b[1;32m    649\u001b[0m #                                   tenthFrames)  # Transition to lower\n\u001b[1;32m    650\u001b[0m #             el_frames = linspacer(el_frames, 20, 20, tenthFrames * 2)\n\u001b[1;32m    651\u001b[0m #             el_frames = linspacer(el_frames, 20, 10,\n\u001b[1;32m    652\u001b[0m #                                   tenthFrames)  # Switch to back\n\u001b[1;32m    653\u001b[0m #             el_frames = linspacer(el_frames, 10, 10, tenthFrames * 3)\n\u001b[1;32m    654\u001b[0m #             el_frames = linspacer(el_frames, 10, 80,\n\u001b[1;32m    655\u001b[0m #                                   remainderFrames)  # Switch to front\n\u001b[1;32m    656\u001b[0m \n\u001b[1;32m    657\u001b[0m #         else:\n\u001b[1;32m    658\u001b[0m #             el_frames = np.linspace(el, el, num_frames)\n\u001b[1;32m    659\u001b[0m #             az_frames = np.linspace(az, az, num_frames)\n\u001b[1;32m    660\u001b[0m \n\u001b[1;32m    661\u001b[0m #         return el_frames, az_frames\n\u001b[1;32m    662\u001b[0m \n\u001b[1;32m    663\u001b[0m \n\u001b[1;32m    664\u001b[0m \n\u001b[1;32m    665\u001b[0m # class HawkPCA_OLD:\n\u001b[1;32m    666\u001b[0m \n\u001b[1;32m    667\u001b[0m #     \"\"\"\n\u001b[1;32m    668\u001b[0m #     Class to run PCA on the Hawk3D data.\n\u001b[1;32m    669\u001b[0m #     \"\"\"\n\u001b[1;32m    670\u001b[0m     \n\u001b[1;32m    671\u001b[0m #     def __init__(self, HawkData, KeypointManager):\n\u001b[1;32m    672\u001b[0m #         self.data = HawkData\n\u001b[1;32m    673\u001b[0m #         self.mu = KeypointManager.right_keypoints\n\u001b[1;32m    674\u001b[0m \n\u001b[1;32m    675\u001b[0m #         # Make the dimensions fit for PCA\n\u001b[1;32m    676\u001b[0m #         self.mu = self.mu.reshape(1,12)\n\u001b[1;32m    677\u001b[0m \n\u001b[1;32m    678\u001b[0m #     def get_input(self, data=None):\n\u001b[1;32m    679\u001b[0m \n\u001b[1;32m    680\u001b[0m #         if data is None:\n\u001b[1;32m    681\u001b[0m #             data = self.data.markers\n\u001b[1;32m    682\u001b[0m \n\u001b[1;32m    683\u001b[0m #         # The data is in the shape (n_frames, n_markers*n_dimensions)\n\u001b[1;32m    684\u001b[0m #         pca_input = data.reshape(-1,12)\n\u001b[1;32m    685\u001b[0m \n\u001b[1;32m    686\u001b[0m #         return pca_input\n\u001b[1;32m    687\u001b[0m     \n\u001b[1;32m    688\u001b[0m #     def run_PCA(self, data=None):\n\u001b[1;32m    689\u001b[0m \n\u001b[1;32m    690\u001b[0m #         pca_input = self.get_input(data)\n\u001b[1;32m    691\u001b[0m        \n\u001b[1;32m    692\u001b[0m #         pca = PCA()\n\u001b[1;32m    693\u001b[0m #         pca_output = pca.fit(pca_input)\n\u001b[1;32m    694\u001b[0m \n\u001b[1;32m    695\u001b[0m #         self.pca_input = pca_input\n\u001b[1;32m    696\u001b[0m \n\u001b[1;32m    697\u001b[0m #         # Another word for eigenvectors is components.\n\u001b[1;32m    698\u001b[0m #         self.principal_components = pca_output.components_\n\u001b[1;32m    699\u001b[0m \n\u001b[1;32m    700\u001b[0m #         # Another word for scores is projections.\n\u001b[1;32m    701\u001b[0m #         self.scores = pca_output.transform(pca_input)\n\u001b[1;32m    702\u001b[0m \n\u001b[1;32m    703\u001b[0m #     def get_score_range(self, num_frames=30):\n\u001b[1;32m    704\u001b[0m \n\u001b[1;32m    705\u001b[0m #         num_components = self.scores.shape[1]\n\u001b[1;32m    706\u001b[0m \n\u001b[1;32m    707\u001b[0m #         min_score = np.mean(self.scores, axis=0) - (2 * np.std(self.scores, axis=0))\n\u001b[1;32m    708\u001b[0m #         max_score = np.mean(self.scores, axis=0) + (2 * np.std(self.scores, axis=0))\n\u001b[1;32m    709\u001b[0m \n\u001b[1;32m    710\u001b[0m #         half_length = num_frames // 2 + 1\n\u001b[1;32m    711\u001b[0m \n\u001b[1;32m    712\u001b[0m #         # Initialize score_frames with the shape [n, 12]\n\u001b[1;32m    713\u001b[0m #         self.score_frames = np.zeros([num_frames, num_components])\n\u001b[1;32m    714\u001b[0m \n\u001b[1;32m    715\u001b[0m \n\u001b[1;32m    716\u001b[0m #         for ii in range(num_components):\n\u001b[1;32m    717\u001b[0m         \n\u001b[1;32m    718\u001b[0m #             # Create forward and backward ranges for each component using np.linspace\n\u001b[1;32m    719\u001b[0m #             forward = np.linspace(min_score[ii], max_score[ii], num=half_length)\n\u001b[1;32m    720\u001b[0m             \n\u001b[1;32m    721\u001b[0m #             # # If num_frames is odd, we add an extra element to 'forward'\n\u001b[1;32m    722\u001b[0m #             # if num_frames % 2 != 0:\n\u001b[1;32m    723\u001b[0m #             #     forward = np.append(forward, max_score[ii])\n\u001b[1;32m    724\u001b[0m             \n\u001b[1;32m    725\u001b[0m #             backward = forward[::-1]  # Reverse the forward range\n\u001b[1;32m    726\u001b[0m \n\u001b[1;32m    727\u001b[0m #             # Combine forward and backward, and assign to the i-th column\n\u001b[1;32m    728\u001b[0m #             self.score_frames[:, ii] = np.concatenate((forward, backward[:num_frames - half_length]))\n\u001b[1;32m    729\u001b[0m \n\u001b[1;32m    730\u001b[0m #     def select_components(self, components_list):\n\u001b[1;32m    731\u001b[0m \n\u001b[1;32m    732\u001b[0m #         selected_components = self.principal_components[:,components_list]\n\u001b[1;32m    733\u001b[0m         \n\u001b[1;32m    734\u001b[0m #         return selected_components\n\u001b[1;32m    735\u001b[0m \n\u001b[1;32m    736\u001b[0m #     def reconstruct(self,components_list=None, score_frames=None):\n\u001b[1;32m    737\u001b[0m \n\u001b[1;32m    738\u001b[0m #         if components_list is None:\n\u001b[1;32m    739\u001b[0m #             components_list = range(12)\n\u001b[1;32m    740\u001b[0m         \n\u001b[1;32m    741\u001b[0m #         if score_frames is None:\n\u001b[1;32m    742\u001b[0m #             score_frames = self.score_frames\n\u001b[1;32m    743\u001b[0m #         else:\n\u001b[1;32m    744\u001b[0m \n\u001b[1;32m    745\u001b[0m #             # Check score_frames are a numpy array\n\u001b[1;32m    746\u001b[0m #             if not isinstance(score_frames, np.ndarray):\n\u001b[1;32m    747\u001b[0m #                 raise TypeError(\"score_frames must be a numpy array.\")\n\u001b[1;32m    748\u001b[0m \n\u001b[1;32m    749\u001b[0m #             # Check the score_frames are the right shape\n\u001b[1;32m    750\u001b[0m #             if score_frames.shape[1] != self.principal_components.shape[0]:\n\u001b[1;32m    751\u001b[0m #                 raise ValueError(\"score_frames must have the same number of columns as components_list.\")\n\u001b[1;32m    752\u001b[0m             \n\u001b[1;32m    753\u001b[0m #             if len(score_frames.shape) != 2:\n\u001b[1;32m    754\u001b[0m #                 raise ValueError(\"score_frames must be 2d.\")\n\u001b[1;32m    755\u001b[0m             \n\u001b[1;32m    756\u001b[0m \n\u001b[1;32m    757\u001b[0m #         selected_PCs = self.principal_components[components_list]\n\u001b[1;32m    758\u001b[0m #         selected_scores = score_frames[:,components_list]\n\u001b[1;32m    759\u001b[0m \n\u001b[1;32m    760\u001b[0m         \n\u001b[1;32m    761\u001b[0m #         num_frames = score_frames.shape[0]\n\u001b[1;32m    762\u001b[0m #         reconstructed_frames = np.empty((0,4,3))\n\u001b[1;32m    763\u001b[0m \n\u001b[1;32m    764\u001b[0m \n\u001b[1;32m    765\u001b[0m #         selected_PCs = selected_PCs.reshape(1, -1, 4, 3)  # [1, nPCs, 4, 3]\n\u001b[1;32m    766\u001b[0m #         selected_scores = selected_scores.reshape(num_frames, -1, 1, 1)  # [n, nPCs, 1, 1]\n\u001b[1;32m    767\u001b[0m #         mu = self.mu.reshape(1, 4, 3)  # [1, 4, 3]\n\u001b[1;32m    768\u001b[0m \n\u001b[1;32m    769\u001b[0m #         reconstructed_frames = mu + np.sum(selected_scores * selected_PCs, axis=1)\n\u001b[1;32m    770\u001b[0m \n\u001b[1;32m    771\u001b[0m #         return reconstructed_frames\n\u001b[1;32m    772\u001b[0m \n\u001b[1;32m    773\u001b[0m #     def get_results_table(self,filter=None):\n\u001b[1;32m    774\u001b[0m \n\u001b[1;32m    775\u001b[0m \n\u001b[1;32m    776\u001b[0m #         # Using the original dataframe from the csv, concat the PCA scores\n\u001b[1;32m    777\u001b[0m #         # Filter makes sure the data is the same size as the PCA input. \n\u001b[1;32m    778\u001b[0m #         self.results_table = self.concat_scores(filter)\n\u001b[1;32m    779\u001b[0m \n\u001b[1;32m    780\u001b[0m #         # Add a bins column based on the horizontal distance\n\u001b[1;32m    781\u001b[0m #         self.bin_by_horz_distance()\n\u001b[1;32m    782\u001b[0m \n\u001b[1;32m    783\u001b[0m #         return self.results_table\n\u001b[1;32m    784\u001b[0m \n\u001b[1;32m    785\u001b[0m #     def concat_scores(self, filter=None):\n\u001b[1;32m    786\u001b[0m \n\u001b[1;32m    787\u001b[0m #         \"\"\"\n\u001b[1;32m    788\u001b[0m #         Returns a pandas dataframe with the scores added to the original data.\n\u001b[1;32m    789\u001b[0m #         \"\"\"\n\u001b[1;32m    790\u001b[0m \n\u001b[1;32m    791\u001b[0m #         # If filter is None, check the input is the same\n\u001b[1;32m    792\u001b[0m #         # size as the original data and warn the user.\n\u001b[1;32m    793\u001b[0m #         if filter is None:\n\u001b[1;32m    794\u001b[0m #             if self.data.markers.shape[0] != self.scores.shape[0]:\n\u001b[1;32m    795\u001b[0m #                 raise ValueError(\"Please input the filter you used to run the PCA.\")\n\u001b[1;32m    796\u001b[0m \n\u001b[1;32m    797\u001b[0m #         # Get the data pandas dataframe, just the useful columns\n\u001b[1;32m    798\u001b[0m #         col_names = ['frameID','time','HorzDistance','body_pitch','Obstacle','IMU','Left']\n\u001b[1;32m    799\u001b[0m #         data = self.data.dataframe[col_names]\n\u001b[1;32m    800\u001b[0m \n\u001b[1;32m    801\u001b[0m #         # Apply the filter if given\n\u001b[1;32m    802\u001b[0m #         if filter is not None:\n\u001b[1;32m    803\u001b[0m #             data = data[filter]\n\u001b[1;32m    804\u001b[0m #         else:\n\u001b[1;32m    805\u001b[0m #             data = data\n\u001b[1;32m    806\u001b[0m \n\u001b[1;32m    807\u001b[0m #         num_components = self.scores.shape[1]\n\u001b[1;32m    808\u001b[0m \n\u001b[1;32m    809\u001b[0m #         # Add the scores to the dataframe. Give the column the name 'PC1' etc.\n\u001b[1;32m    810\u001b[0m #         PC_names = [\"PC\" + str(i) for i in range(1, num_components+1)]\n\u001b[1;32m    811\u001b[0m \n\u001b[1;32m    812\u001b[0m #         score_df = pd.DataFrame(self.scores, columns=PC_names)\n\u001b[1;32m    813\u001b[0m \n\u001b[1;32m    814\u001b[0m #         data = pd.concat([data, score_df], axis=1)\n\u001b[1;32m    815\u001b[0m \n\u001b[1;32m    816\u001b[0m #         return data\n\u001b[1;32m    817\u001b[0m     \n\u001b[1;32m    818\u001b[0m #     def bin_by_horz_distance(self, size_bin=0.05):\n\u001b[1;32m    819\u001b[0m \n\u001b[1;32m    820\u001b[0m #         \"\"\"\n\u001b[1;32m    821\u001b[0m #         Bin the horizontal distance into bins of size size_bin.\n\u001b[1;32m    822\u001b[0m #         Using the HawkPCA results dataframe.\n\u001b[1;32m    823\u001b[0m #         \"\"\"\n\u001b[1;32m    824\u001b[0m \n\u001b[1;32m    825\u001b[0m #         bins = np.arange(-12.2,0.2, size_bin)\n\u001b[1;32m    826\u001b[0m #         bins = np.around(bins, 3)\n\u001b[1;32m    827\u001b[0m #         labels = bins.astype(str).tolist()\n\u001b[1;32m    828\u001b[0m #         # make label one smaller\n\u001b[1;32m    829\u001b[0m #         labels.pop(0)\n\u001b[1;32m    830\u001b[0m \n\u001b[1;32m    831\u001b[0m #         self.results_table['bins'] = pd.cut(self.results_table['HorzDistance'], \n\u001b[1;32m    832\u001b[0m #                                        bins, \n\u001b[1;32m    833\u001b[0m #                                        right=False, \n\u001b[1;32m    834\u001b[0m #                                        labels = labels, \n\u001b[1;32m    835\u001b[0m #                                        include_lowest=True)\n\u001b[1;32m    836\u001b[0m     \n\u001b[1;32m    837\u001b[0m #     def filter_results_by(self,\n\u001b[1;32m    838\u001b[0m #                   hawk=None,\n\u001b[1;32m    839\u001b[0m #                   perchDist=None, \n\u001b[1;32m    840\u001b[0m #                   obstacle=False, \n\u001b[1;32m    841\u001b[0m #                   year=None, \n\u001b[1;32m    842\u001b[0m #                   Left=None,\n\u001b[1;32m    843\u001b[0m #                   IMU=False):\n\u001b[1;32m    844\u001b[0m #         \"\"\"\n\u001b[1;32m    845\u001b[0m #         Returns boolean array of indices to filter the data.\n\u001b[1;32m    846\u001b[0m #         Somewhat of a repeat of HawkData.filter_by but that is not compatible with\n\u001b[1;32m    847\u001b[0m #         pandas, maybe refactor it there.\n\u001b[1;32m    848\u001b[0m #         \"\"\"\n\u001b[1;32m    849\u001b[0m \n\u001b[1;32m    850\u001b[0m #         # Get the data pandas dataframe\n\u001b[1;32m    851\u001b[0m #         data = self.results_table\n\u001b[1;32m    852\u001b[0m #         frameID = data.frameID\n\u001b[1;32m    853\u001b[0m \n\u001b[1;32m    854\u001b[0m #         # Initialise the filter\n\u001b[1;32m    855\u001b[0m #         filter = np.ones(len(frameID), dtype=bool)\n\u001b[1;32m    856\u001b[0m \n\u001b[1;32m    857\u001b[0m #         # Filter by hawk\n\u001b[1;32m    858\u001b[0m #         if hawk is not None:\n\u001b[1;32m    859\u001b[0m #             filter = np.logical_and(filter, HawkData.filter_by_hawk_ID(frameID, hawk))\n\u001b[1;32m    860\u001b[0m \n\u001b[1;32m    861\u001b[0m #         # Filter by perchDist\n\u001b[1;32m    862\u001b[0m #         if perchDist is not None:\n\u001b[1;32m    863\u001b[0m #             filter = np.logical_and(filter, HawkData.filter_by_perchDist(frameID, perchDist))\n\u001b[1;32m    864\u001b[0m \n\u001b[1;32m    865\u001b[0m #         # Filter by year\n\u001b[1;32m    866\u001b[0m #         if year is not None:\n\u001b[1;32m    867\u001b[0m #             filter = np.logical_and(filter, HawkData.filter_by_year(frameID,year))\n\u001b[1;32m    868\u001b[0m \n\u001b[1;32m    869\u001b[0m #         # Filter by obstacle\n\u001b[1;32m    870\u001b[0m #         if obstacle is not None:\n\u001b[1;32m    871\u001b[0m #             filter = np.logical_and(filter, data.Obstacle==obstacle)\n\u001b[1;32m    872\u001b[0m             \n\u001b[1;32m    873\u001b[0m #         # Filter by Left\n\u001b[1;32m    874\u001b[0m #         if Left is not None:\n\u001b[1;32m    875\u001b[0m #             filter = np.logical_and(filter, data.Left==Left)\n\u001b[1;32m    876\u001b[0m             \n\u001b[1;32m    877\u001b[0m #         # Filter by IMU\n\u001b[1;32m    878\u001b[0m #         if IMU is not None:\n\u001b[1;32m    879\u001b[0m #             filter = np.logical_and(filter, data.IMU==IMU)\n\u001b[1;32m    880\u001b[0m         \n\u001b[1;32m    881\u001b[0m #         return data[filter]\n\u001b[1;32m    882\u001b[0m          \n\u001b[1;32m    883\u001b[0m #     def binned_results(self, results_table=None):\n\u001b[1;32m    884\u001b[0m  \n\u001b[1;32m    885\u001b[0m #         \"\"\"\n\u001b[1;32m    886\u001b[0m #         Returns a dataframe with the mean scores and std scores for each bin, plus \n\u001b[1;32m    887\u001b[0m #         the mean for horizontal distance, time and body pitch.\n\u001b[1;32m    888\u001b[0m #         \"\"\"\n\u001b[1;32m    889\u001b[0m \n\u001b[1;32m    890\u001b[0m #         def mean_score_by_bin(results_table):\n\u001b[1;32m    891\u001b[0m \n\u001b[1;32m    892\u001b[0m #             # Get the PC names\n\u001b[1;32m    893\u001b[0m #             PC_columns = results_table.filter(like='PC')\n\u001b[1;32m    894\u001b[0m \n\u001b[1;32m    895\u001b[0m #             # observed=True is to prevent a warning about future behaviour. \n\u001b[1;32m    896\u001b[0m #             # See https://pandas.pydata.org/pandas-docs/stable/user_guide/groupby.html#groupby-specify\n\u001b[1;32m    897\u001b[0m #             # It will only group by the bins that are present in the data, \n\u001b[1;32m    898\u001b[0m #             # so in this case it is irelevant.\n\u001b[1;32m    899\u001b[0m             \n\u001b[1;32m    900\u001b[0m #             mean_scores = PC_columns.groupby(results_table['bins'], observed=True).mean()\n\u001b[1;32m    901\u001b[0m \n\u001b[1;32m    902\u001b[0m #             return mean_scores\n\u001b[1;32m    903\u001b[0m         \n\u001b[1;32m    904\u001b[0m #         def std_score_by_bin(results_table):\n\u001b[1;32m    905\u001b[0m \n\u001b[1;32m    906\u001b[0m #             # Get the PC names\n\u001b[1;32m    907\u001b[0m #             PC_columns = results_table.filter(like='PC')\n\u001b[1;32m    908\u001b[0m \n\u001b[1;32m    909\u001b[0m #             # observed=True is to prevent a warning about future behaviour. \n\u001b[1;32m    910\u001b[0m #             # See https://pandas.pydata.org/pandas-docs/stable/user_guide/groupby.html#groupby-specify\n\u001b[1;32m    911\u001b[0m             \n\u001b[1;32m    912\u001b[0m #             std_scores = PC_columns.groupby(results_table['bins'], observed=True).mean()\n\u001b[1;32m    913\u001b[0m \n\u001b[1;32m    914\u001b[0m #             return std_scores\n\u001b[1;32m    915\u001b[0m         \n\u001b[1;32m    916\u001b[0m #         def mean_col_by_bin(results_table,column_name):\n\u001b[1;32m    917\u001b[0m             \n\u001b[1;32m    918\u001b[0m #             mean_column = results_table.groupby('bins', observed=True)[column_name].mean()\n\u001b[1;32m    919\u001b[0m \n\u001b[1;32m    920\u001b[0m #             return mean_column\n\u001b[1;32m    921\u001b[0m \n\u001b[1;32m    922\u001b[0m \n\u001b[1;32m    923\u001b[0m #         if results_table is None:\n\u001b[1;32m    924\u001b[0m #             results_table = self.results_table\n\u001b[1;32m    925\u001b[0m #             print(\"Binning full data, no filters applied.\")\n\u001b[1;32m    926\u001b[0m \n\u001b[1;32m    927\u001b[0m \n\u001b[1;32m    928\u001b[0m #         binned_means_scores = mean_score_by_bin(results_table)\n\u001b[1;32m    929\u001b[0m #         binned_std_scores = std_score_by_bin(results_table)\n\u001b[1;32m    930\u001b[0m \n\u001b[1;32m    931\u001b[0m #         # Concatenate HorzDist means etc to the binned_means_scores dataframe\n\u001b[1;32m    932\u001b[0m #         col_names = [\"HorzDistance\",\"time\",\"body_pitch\"]\n\u001b[1;32m    933\u001b[0m \n\u001b[1;32m    934\u001b[0m #         for col_name in col_names:\n\u001b[1;32m    935\u001b[0m #             binned_means_scores[col_name] = mean_col_by_bin(results_table,col_name)\n\u001b[1;32m    936\u001b[0m             \n\u001b[1;32m    937\u001b[0m #         # Remove rows with NaN values\n\u001b[1;32m    938\u001b[0m #         binned_means_scores = binned_means_scores.dropna(axis=0, how='any')\n\u001b[1;32m    939\u001b[0m #         binned_std_scores = binned_std_scores.dropna(axis=0, how='any')\n\u001b[1;32m    940\u001b[0m \n\u001b[1;32m    941\u001b[0m #         return binned_means_scores, binned_std_scores\n\u001b[1;32m    942\u001b[0m \n\u001b[1;32m    943\u001b[0m #     def reconstruct_reduced_dims(self, binned_means_scores, selected_PCs=None):\n\u001b[1;32m    944\u001b[0m         \n\u001b[1;32m    945\u001b[0m #         # Make a numpy array with binned scores. \n\u001b[1;32m    946\u001b[0m #         # This will be the input to the reconstruction.\n\u001b[1;32m    947\u001b[0m \n\u001b[1;32m    948\u001b[0m #         # Get the PC names\n\u001b[1;32m    949\u001b[0m #         PC_columns = binned_means_scores.filter(like='PC')\n\u001b[1;32m    950\u001b[0m \n\u001b[1;32m    951\u001b[0m #         # Transform to numpy array\n\u001b[1;32m    952\u001b[0m #         score_frames = PC_columns.to_numpy()\n\u001b[1;32m    953\u001b[0m \n\u001b[1;32m    954\u001b[0m #         reconstructed_frames = self.reconstruct(selected_PCs, score_frames)\n\u001b[1;32m    955\u001b[0m \n\u001b[1;32m    956\u001b[0m \n\u001b[1;32m    957\u001b[0m #         return reconstructed_frames\n\u001b[1;32m    958\u001b[0m \n\u001b[1;32m    959\u001b[0m \n\u001b[1;32m    960\u001b[0m \n\u001b[1;32m    961\u001b[0m # class Hawk3D:\n\u001b[1;32m    962\u001b[0m #     def __init__(self, filename):\n\u001b[1;32m    963\u001b[0m \n\u001b[1;32m    964\u001b[0m #         # As an explanation, anything within KeypointManager can be found by calling\n\u001b[1;32m    965\u001b[0m #         # Hawk3D.keypoint_manager. For example, Hawk3D.keypoint_manager.keypoints\n\u001b[1;32m    966\u001b[0m #         # will return the keypoints. \n\u001b[1;32m    967\u001b[0m         \n\u001b[1;32m    968\u001b[0m #         self.keypoint_manager = KeypointManager(filename)\n\u001b[1;32m    969\u001b[0m #         self.plotter = HawkPlotter(self.keypoint_manager)\n\u001b[1;32m    970\u001b[0m #         self.animator = HawkAnimator(self.plotter)\n\u001b[1;32m    971\u001b[0m \n\u001b[1;32m    972\u001b[0m #         self.keypoint_manager.keypoints_no_translation = None\n\u001b[1;32m    973\u001b[0m \n\u001b[1;32m    974\u001b[0m #     def get_data(self, csv_path):\n\u001b[1;32m    975\u001b[0m         \n\u001b[1;32m    976\u001b[0m #         \"\"\"\n\u001b[1;32m    977\u001b[0m #         Loads the data from the csv file.\n\u001b[1;32m    978\u001b[0m #         \"\"\"\n\u001b[1;32m    979\u001b[0m \n\u001b[1;32m    980\u001b[0m #         self.frames = HawkData(csv_path)\n\u001b[1;32m    981\u001b[0m #         self.markers = self.frames.markers\n\u001b[1;32m    982\u001b[0m #         self.horzDist = self.frames.horzDist\n\u001b[1;32m    983\u001b[0m \n\u001b[1;32m    984\u001b[0m #         self.PCA = HawkPCA(self.frames, self.keypoint_manager)\n\u001b[1;32m    985\u001b[0m \n\u001b[1;32m    986\u001b[0m #     def display_hawk(self, \n\u001b[1;32m    987\u001b[0m #                      user_keypoints=None, \n\u001b[1;32m    988\u001b[0m #                      el = 20, \n\u001b[1;32m    989\u001b[0m #                      az = 60, \n\u001b[1;32m    990\u001b[0m #                      alpha = 0.3, \n\u001b[1;32m    991\u001b[0m #                      colour = None,\n\u001b[1;32m    992\u001b[0m #                      horzDist = None, \n\u001b[1;32m    993\u001b[0m #                      bodypitch = None, \n\u001b[1;32m    994\u001b[0m #                      vertDist = None):\n\u001b[1;32m    995\u001b[0m         \n\u001b[1;32m    996\u001b[0m #         \"\"\"\n\u001b[1;32m    997\u001b[0m #         Displays the hawk using either the default keypoints or user-provided keypoints.\n\u001b[1;32m    998\u001b[0m \n\u001b[1;32m    999\u001b[0m #         Parameters:\n\u001b[1;32m   1000\u001b[0m #         user_keypoints (numpy.ndarray, optional): An array of keypoints provided by the user.\n\u001b[1;32m   1001\u001b[0m #                                                     Expected shape is [1, 4, 3].\n\u001b[1;32m   1002\u001b[0m #         \"\"\"\n\u001b[1;32m   1003\u001b[0m \n\u001b[1;32m   1004\u001b[0m #         if user_keypoints is not None:\n\u001b[1;32m   1005\u001b[0m #             self.keypoint_manager.update_keypoints(user_keypoints)\n\u001b[1;32m   1006\u001b[0m \n\u001b[1;32m   1007\u001b[0m #         # Transforms the keypoints if horzdist or bodypitch is given\n\u001b[1;32m   1008\u001b[0m #         # Saves a copy of the untransformed keypoints to restore later\n\u001b[1;32m   1009\u001b[0m #         self.keypoint_manager.keypoints = self.keypoint_manager.transform_keypoints(horzDist=horzDist, \n\u001b[1;32m   1010\u001b[0m #                                                     bodypitch=bodypitch, \n\u001b[1;32m   1011\u001b[0m #                                                     vertDist=vertDist)\n\u001b[1;32m   1012\u001b[0m         \n\u001b[1;32m   1013\u001b[0m #         # Use the plotter to display the hawk with the current keypoints. Average from file by default.\n\u001b[1;32m   1014\u001b[0m #         self.plotter.interactive_plot(el=el, \n\u001b[1;32m   1015\u001b[0m #                                       az=az, \n\u001b[1;32m   1016\u001b[0m #                                       alpha=alpha, \n\u001b[1;32m   1017\u001b[0m #                                       colour=colour,\n\u001b[1;32m   1018\u001b[0m #                                       horzDist=horzDist)\n\u001b[1;32m   1019\u001b[0m #         # 2024-01-04 22:49 SERIOUSLY CAN'T UNDERSTAND WHY THIS WON'T WORK\n\u001b[1;32m   1020\u001b[0m #         # The keypoints are not updating when I call the function again.\n\u001b[1;32m   1021\u001b[0m #         # And the keypoints won't rotate.\n\u001b[1;32m   1022\u001b[0m \n\u001b[1;32m   1023\u001b[0m #     def animate_hawk(self, keypoint_sequence,\n\u001b[1;32m   1024\u001b[0m #                 rotation_type=\"static\", \n\u001b[1;32m   1025\u001b[0m #                 el=20, \n\u001b[1;32m   1026\u001b[0m #                 az=60, \n\u001b[1;32m   1027\u001b[0m #                 alpha=0.3, \n\u001b[1;32m   1028\u001b[0m #                 colour=None, \n\u001b[1;32m   1029\u001b[0m #                 horzDist_frames=None, \n\u001b[1;32m   1030\u001b[0m #                 bodypitch_frames=None):\n\u001b[1;32m   1031\u001b[0m #         \"\"\"\n\u001b[1;32m   1032\u001b[0m #         Animates the hawk using a sequence of keypoints.\n\u001b[1;32m   1033\u001b[0m \n\u001b[1;32m   1034\u001b[0m #         Parameters:\n\u001b[1;32m   1035\u001b[0m #         keypoint_sequence (numpy.ndarray): An array of keypoints for each frame.\n\u001b[1;32m   1036\u001b[0m #                                            Expected shape is [n, 4, 3], where n is the number of frames.\n\u001b[1;32m   1037\u001b[0m #         \"\"\"\n\u001b[1;32m   1038\u001b[0m             \n\u001b[1;32m   1039\u001b[0m #         # Use the animator to animate the hawk with the given keypoints.\n\u001b[1;32m   1040\u001b[0m #         self.animation = self.animator.animate(keypoint_sequence,\n\u001b[1;32m   1041\u001b[0m #                                                rotation_type=rotation_type, \n\u001b[1;32m   1042\u001b[0m #                                                el=el, \n\u001b[1;32m   1043\u001b[0m #                                                az=az, \n\u001b[1;32m   1044\u001b[0m #                                                alpha=alpha, \n\u001b[1;32m   1045\u001b[0m #                                                colour=colour, \n\u001b[1;32m   1046\u001b[0m #                                                horzDist_frames=horzDist_frames, \n\u001b[1;32m   1047\u001b[0m #                                                bodypitch_frames=bodypitch_frames)\n\u001b[1;32m   1048\u001b[0m \n\u001b[1;32m   1049\u001b[0m        \n\u001b[1;32m   1050\u001b[0m \n\u001b[1;32m   1051\u001b[0m #     def quick_PCA(self, selected_PCs=0,num_frames=30):\n\u001b[1;32m   1052\u001b[0m         \n\u001b[1;32m   1053\u001b[0m #         \"\"\"\n\u001b[1;32m   1054\u001b[0m #         Quick PCA reconstruction of the hawk using the given number of principal components.\n\u001b[1;32m   1055\u001b[0m #         Animates the hawk using the reconstructed frames. Default first PCs. \n\u001b[1;32m   1056\u001b[0m #         \"\"\"\n\u001b[1;32m   1057\u001b[0m \n\u001b[1;32m   1058\u001b[0m #         self.PCA.run_PCA()\n\u001b[1;32m   1059\u001b[0m #         self.PCA.get_score_range(num_frames)\n\u001b[1;32m   1060\u001b[0m #         frames = self.PCA.reconstruct(selected_PCs)\n\u001b[1;32m   1061\u001b[0m \n\u001b[1;32m   1062\u001b[0m #         self.animate_hawk(frames)\n\u001b[1;32m   1065\u001b[0m def main():\n\u001b[1;32m   1066\u001b[0m     pass\n",
      "\u001b[0;31mAttributeError\u001b[0m: 'HawkPCATest' object has no attribute 'score_frames'"
     ]
    }
   ],
   "source": [
    "reconstructed_markers = HawkPCA.reconstruct(components_list=[0])\n",
    "print(reconstructed_markers[0].shape)"
   ]
  },
  {
   "cell_type": "code",
   "execution_count": null,
   "metadata": {},
   "outputs": [],
   "source": [
    "# Clear figures from memory\n",
    "plt.close('all')\n"
   ]
  },
  {
   "cell_type": "code",
   "execution_count": null,
   "metadata": {},
   "outputs": [],
   "source": [
    "\n",
    "hawk3d.update_keypoints(reconstructed_markers[15])\n",
    "hawkplot = HawkPlotterTest(hawk3d)\n",
    "HawkAnimate = HawkAnimatorTest(hawk3d, hawkplot)\n",
    "\n",
    "reconstructed_markers = HawkPCA.reconstruct(components_list=[0])\n",
    "HawkAnimate.animate(reconstructed_markers)\n",
    "\n",
    "# _ = hawkplot.interactive_plot()\n"
   ]
  },
  {
   "cell_type": "markdown",
   "metadata": {},
   "source": [
    "## Attempting to reconstruct all the data to plot it in 3d\n"
   ]
  },
  {
   "cell_type": "code",
   "execution_count": null,
   "metadata": {},
   "outputs": [],
   "source": [
    "data = HawkDataTest(\"../data/2024-03-24-FullUnilateralMarkers.csv\")\n",
    "HawkPCA = HawkPCATest(data)\n",
    "HawkPCA.run_pca()\n",
    "scores = HawkPCA.scores"
   ]
  },
  {
   "cell_type": "code",
   "execution_count": null,
   "metadata": {},
   "outputs": [],
   "source": [
    "reconstructed_markers = HawkPCA.reconstruct(score_frames=scores)\n",
    "reconstructed_markers.shape"
   ]
  },
  {
   "cell_type": "markdown",
   "metadata": {},
   "source": [
    "# Plot original data\n",
    "using 3 panels: xy, xz, yz"
   ]
  },
  {
   "cell_type": "code",
   "execution_count": null,
   "metadata": {},
   "outputs": [],
   "source": [
    "# %matplotlib inline\n",
    "import numpy as np\n",
    "from matplotlib import pyplot as plt\n",
    "\n",
    "from morphing_birds import Hawk3Dtest, HawkPlotterTest, HawkAnimatorTest, HawkDataTest, HawkPCATest\n",
    "import holoviews as hv\n",
    "from holoviews.operation.datashader import datashade\n",
    "from holoviews import opts, dim\n",
    "import datashader as ds\n",
    "import datashader.transfer_functions as tf\n",
    "from datashader.colors import Greys9\n",
    "from datashader.colors import Elevation\n",
    "from datashader.utils import export_image\n",
    "import pandas as pd\n",
    "from functools import partial\n",
    "\n",
    "# hv.extension(\"matplotlib\")\n",
    "\n",
    "Greys9_r = list(reversed(Greys9))[:-2]\n",
    "\n",
    "data = HawkDataTest(\"../data/2024-03-24-FullUnilateralMarkers.csv\")\n",
    "HawkPCA = HawkPCATest(data)\n",
    "HawkPCA.run_pca()\n",
    "\n"
   ]
  },
  {
   "cell_type": "code",
   "execution_count": null,
   "metadata": {},
   "outputs": [],
   "source": [
    "%matplotlib widget\n",
    "fig, axs = plt.subplots(3, 3, figsize=(15, 10))\n",
    "\n",
    "# Flatten the axs array for easier access\n",
    "axes = axs.flatten()\n",
    "\n",
    "filter_data = data.filter_by(birdID=4)\n",
    "toothless_data = data.markers[filter_data]\n",
    "col_names = [\"x\",\"y\",\"z\"]\n",
    "\n",
    "marker_id = 0\n",
    "toothless_data = toothless_data[:,marker_id,:]\n",
    "toothless_pd = pd.DataFrame(toothless_data, columns=col_names)\n",
    "\n",
    "scores = HawkPCA.scores\n",
    "PC_list = [0,1,2]\n",
    "# PC_list = [0,1,2,3,4,5,6,7,8,9,10,11]\n",
    "\n",
    "reconstructed = HawkPCA.reconstruct(components_list=PC_list,score_frames=scores)\n",
    "toothless_reconstructed = reconstructed[filter_data]\n",
    "\n",
    "toothless_reconstructed = toothless_reconstructed[:,marker_id,:]\n",
    "toothless_reconstructed_pd = pd.DataFrame(toothless_reconstructed, columns=col_names)\n",
    "print(toothless_reconstructed_pd.shape)\n",
    "\n",
    "bounds = dict(x_range=(-0.6, 0.6), y_range=(-0.65, 0.65))\n",
    "cvs = ds.Canvas(plot_width=500, plot_height=500, **bounds)\n",
    "\n",
    "x_values = [\"x\", \"x\", \"y\"]\n",
    "y_values = [\"y\", \"z\", \"z\"]\n",
    "\n",
    "# Loop through each subplot axes\n",
    "for ii, ax in enumerate(axes):\n",
    "    if ii < 3:\n",
    "        # For demonstration, using the same 'toothless_pd' for each subplot\n",
    "        # In practice, you may have different datasets or parameters per subplot\n",
    "        agg = cvs.points(toothless_pd, x_values[ii], y_values[ii], ds.count())\n",
    "        img = tf.shade(agg, cmap=[\"white\", \"black\"], how='log')\n",
    "\n",
    "    if ii > 2 and ii < 6:\n",
    "        agg = cvs.points(toothless_reconstructed_pd, x_values[ii-3], y_values[ii-3], ds.count())\n",
    "        img = tf.shade(agg, cmap=[\"white\", \"black\"], how='log')\n",
    "\n",
    "\n",
    "    if ii > 5:\n",
    "        agg1 = cvs.points(toothless_pd, x_values[ii-6], y_values[ii-6], ds.count())\n",
    "        agg2 = cvs.points(toothless_reconstructed_pd, x_values[ii-6], y_values[ii-6], ds.count())\n",
    "        img1 = tf.shade(agg1, cmap=[\"blue\"], how='log', alpha=128)\n",
    "        img2 = tf.shade(agg2, cmap=[\"red\"], how='log')\n",
    "\n",
    "        # Combine the two images into a single image\n",
    "        img = tf.stack(img2, img1)\n",
    "\n",
    "    img = tf.set_background(img, 'white')\n",
    "    \n",
    "    # Convert the Datashader image to a NumPy array and display in subplot\n",
    "    img_array = np.array(img.to_pil())\n",
    "    ax.imshow(img_array)\n",
    "    ax.axis('off')  # Turn off axis for cleaner look\n",
    "\n",
    "# Adjust subplot layout for aesthetics\n",
    "plt.tight_layout()\n",
    "plt.show()\n",
    "\n",
    "\n",
    "\n",
    "# agg = cvs.points(toothless_pd, 'x', 'z', ds.count())\n",
    "# img = tf.shade(agg, cmap= [\"white\", \"black\"], how='log')\n",
    "# display(tf.set_background(img, 'white'))\n",
    "\n",
    "# # using cvs on a numpy array without column names\n",
    "\n"
   ]
  },
  {
   "cell_type": "markdown",
   "metadata": {},
   "source": [
    "## Show all possible combinations of 2 standard deviations of the scores\n",
    "\n"
   ]
  },
  {
   "cell_type": "code",
   "execution_count": null,
   "metadata": {},
   "outputs": [],
   "source": [
    "scores = HawkPCA.scores\n",
    "st_dev = np.std(scores,axis=0)\n",
    "st_dev.shape\n",
    "\n",
    "# Create a numpy array linspace going from -2 to 2 standard deviations\n",
    "# with 20 points\n",
    "num_points = 20\n",
    "PC_1 = np.linspace(-2*st_dev[0], 2*st_dev[0], num_points)\n",
    "PC_2 = np.linspace(-2*st_dev[1], 2*st_dev[1], num_points)\n",
    "# PC_3 = np.linspace(-2*st_dev[2], 2*st_dev[2], num_points)\n",
    "\n",
    "# Create a large matrix with all possible combinations of PC_1 and PC_2\n",
    "PC_1, PC_2 = np.meshgrid(PC_1, PC_2)\n",
    "\n",
    "# Create a 2D array with the PC_1 and PC_2 values\n",
    "PC_1_2D = PC_1.flatten()\n",
    "PC_2_2D = PC_2.flatten()\n",
    "# PC_3_2D = PC_3.flatten()\n",
    "\n",
    "\n",
    "# Concatenate both to a 2D array\n",
    "combined = np.vstack((PC_1_2D, PC_2_2D)).T\n",
    "print(combined.shape)\n",
    "\n",
    "# For every remaining column up to 12, add 0s\n",
    "for ii in range(combined.shape[1],12):\n",
    "    combined = np.hstack((combined, np.zeros((combined.shape[0],1))))\n",
    "\n",
    "\n",
    "# Repeat the combined array for the number of frames\n",
    "nPoints = toothless_pd.shape[0]\n",
    "combined = np.repeat(combined, nPoints, axis=0)\n",
    "combined.shape\n"
   ]
  },
  {
   "cell_type": "code",
   "execution_count": null,
   "metadata": {},
   "outputs": [],
   "source": [
    "%matplotlib widget\n",
    "\n",
    "# Now we can reconstruct the markers for all possible combinations\n",
    "reconstructed = HawkPCA.reconstruct(components_list=[0,1], score_frames=combined)\n",
    "print(reconstructed.shape)\n",
    "\n",
    "# Now we can plot the reconstructed markers\n",
    "marker_id = 0\n",
    "reconstructed = reconstructed[:,marker_id,:]\n",
    "reconstructed_pd = pd.DataFrame(reconstructed, columns=col_names)\n",
    "print(reconstructed_pd.shape)\n",
    "\n",
    "bounds = dict(x_range=(-0.6, 0.6), y_range=(-0.65, 0.65))\n",
    "cvs = ds.Canvas(plot_width=500, plot_height=500, **bounds)\n",
    "\n",
    "x_values = [\"x\", \"x\", \"y\"]\n",
    "y_values = [\"y\", \"z\", \"z\"]\n",
    "\n",
    "\n",
    "fig, axs = plt.subplots(3, 3, figsize=(3, 2))\n",
    "\n",
    "# Flatten the axs array for easier access\n",
    "axes = axs.flatten()\n",
    "\n",
    "# Loop through each subplot axes\n",
    "for ii, ax in enumerate(axes):\n",
    "    if ii < 3:\n",
    "        # For demonstration, using the same 'toothless_pd' for each subplot\n",
    "        # In practice, you may have different datasets or parameters per subplot\n",
    "        agg = cvs.points(toothless_pd, x_values[ii], y_values[ii], ds.count())\n",
    "        img = tf.shade(agg, cmap=[\"white\", \"black\"], how='log')\n",
    "\n",
    "    if ii > 2 and ii < 6:\n",
    "        agg = cvs.points(reconstructed_pd, x_values[ii-3], y_values[ii-3], ds.count())\n",
    "        img = tf.shade(agg, cmap=[\"white\", \"black\"], how='linear')\n",
    "\n",
    "\n",
    "    if ii > 5:\n",
    "        agg1 = cvs.points(toothless_pd, x_values[ii-6], y_values[ii-6], ds.count())\n",
    "        agg2 = cvs.points(reconstructed_pd, x_values[ii-6], y_values[ii-6], ds.count())\n",
    "        img1 = tf.shade(agg1, cmap=[\"blue\"], how='log', alpha=128)\n",
    "        img2 = tf.shade(agg2, cmap=[\"red\"], how='eq_hist')\n",
    "\n",
    "        # Combine the two images into a single image\n",
    "        img = tf.stack(img2, img1)\n",
    "\n",
    "    img = tf.set_background(img, 'white')\n",
    "    \n",
    "    # Convert the Datashader image to a NumPy array and display in subplot\n",
    "    img_array = np.array(img.to_pil())\n",
    "    ax.imshow(img_array)\n",
    "    ax.axis('off')  # Turn off axis for cleaner look\n",
    "\n",
    "# Adjust subplot layout for aesthetics\n",
    "plt.tight_layout()\n",
    "plt.show()\n",
    "\n",
    "\n"
   ]
  },
  {
   "cell_type": "markdown",
   "metadata": {},
   "source": []
  },
  {
   "cell_type": "code",
   "execution_count": null,
   "metadata": {},
   "outputs": [],
   "source": [
    "selection = data.filter_by(hawkname=\"Toothless\",\n",
    "                      perchDist=9)\n",
    "selection\n",
    "\n",
    "data.markers[selection].shape"
   ]
  },
  {
   "cell_type": "code",
   "execution_count": null,
   "metadata": {},
   "outputs": [],
   "source": [
    "\n"
   ]
  },
  {
   "cell_type": "code",
   "execution_count": null,
   "metadata": {},
   "outputs": [],
   "source": [
    "# print(hawk3d.markers)\n",
    "\n",
    "# # Stop python printing in scientific notation\n",
    "# np.set_printoptions(suppress=True)\n",
    "# # Make a numpy array of 1s in the shape [1,4,3]\n",
    "# a = np.ones((1,4,3))*100\n",
    "\n",
    "\n",
    "# # See if update works\n",
    "# hawk3d.update_keypoints(a)\n",
    "# hawk3d.markers\n",
    "# hawk3d.right_markers\n",
    "\n",
    "# # # See if restore works\n",
    "# hawk3d.restore_keypoints()\n",
    "# hawk3d.markers\n",
    "# hawk3d.right_markers\n"
   ]
  },
  {
   "cell_type": "code",
   "execution_count": null,
   "metadata": {},
   "outputs": [],
   "source": [
    "hawkplot = HawkPlotterTest(hawk3d)\n",
    "\n",
    "hawkplot.plot()\n",
    "\n"
   ]
  },
  {
   "cell_type": "code",
   "execution_count": null,
   "metadata": {},
   "outputs": [],
   "source": [
    "# Create an array of [100,4,3] to see if the animation works\n",
    "keypoint_frames = hawk3d.markers\n",
    "\n",
    "# Now repeat keypoint_frames 100 times\n",
    "keypoint_frames = np.repeat(keypoint_frames, 5, axis=0)\n",
    "\n",
    "# Then add a little noise to the keypoint_frames\n",
    "keypoint_frames += np.random.randn(*keypoint_frames.shape)*0.02\n",
    "\n",
    "print(keypoint_frames.shape)\n",
    "\n",
    "# hawk_animator = HawkAnimatorTest(hawk3d, hawkplot)\n",
    "\n",
    "# hawk_animator.HawkPlotter.interactive_plot(keypoint_frames[0])\n",
    "# print(keypoint_frames[0].shape)\n",
    "hawk3d.update_keypoints(keypoint_frames[0])\n",
    "print(keypoint_frames[0])\n",
    "print(hawk3d.right_markers)\n",
    "\n",
    "# HawkPlotterTest(hawk3d).interactive_plot()\n",
    "\n",
    "# HawkAnimate = HawkAnimatorTest(hawk3d, hawkplot)\n",
    "\n",
    "# animation = HawkAnimate.animate(keypoint_frames)\n",
    "\n",
    "# new_hawkplot = HawkPlotterTest(new_hawk3d)\n",
    "# new_hawkplot.interactive_plot()\n",
    "\n",
    "# display(animation)\n",
    "\n"
   ]
  },
  {
   "cell_type": "code",
   "execution_count": null,
   "metadata": {},
   "outputs": [],
   "source": [
    "# stop the animation\n",
    "animation.event_source.stop()"
   ]
  },
  {
   "cell_type": "markdown",
   "metadata": {},
   "source": [
    "## Load DMD results\n"
   ]
  },
  {
   "cell_type": "code",
   "execution_count": null,
   "metadata": {},
   "outputs": [],
   "source": [
    "plt.close('all')\n"
   ]
  },
  {
   "cell_type": "code",
   "execution_count": null,
   "metadata": {},
   "outputs": [],
   "source": [
    "# animation.event_source.stop()\n",
    "plt.close('all')\n",
    "\n",
    "dynamicsMode = np.load(\"../data/dynamics/Mode1.npy\")\n",
    "\n",
    "\n",
    "\n",
    "# dynamicsMode = np.load(\"../data/dynamics/FlightDynamics.npy\")\n",
    "\n",
    "\n",
    "hawk3d = Hawk3Dtest(\"../data/mean_hawk_shape.csv\")\n",
    "\n",
    "hawkplot = HawkPlotterTest(hawk3d)\n",
    "\n",
    "HawkAnimate = HawkAnimatorTest(hawk3d, hawkplot)\n",
    "\n",
    "# Grab every other starting with the second\n",
    "right_dynamicsMode = dynamicsMode[0:50,1::2,:]\n",
    "\n",
    "# Reverse the x axis just in case\n",
    "# right_dynamicsMode[:,:,0] = -right_dynamicsMode[:,:,0]\n",
    "\n",
    "# Reverse the left side of the full results as this hasn't been done\n",
    "# Reverse the x axis for the left side -- every other starting with the first\n",
    "# dynamicsMode[:,0::2,0] = -dynamicsMode[:,0::2,0]\n",
    "\n",
    "# Add some scaling\n",
    "# right_dynamicsMode *= 0.8\n",
    "\n",
    "# right_dynamicsMode *= 80\n",
    "\n",
    "\n",
    "print(right_dynamicsMode.shape)\n",
    "\n",
    "# Add it to the average shape\n",
    "average_shape = hawk3d.default_right_markers\n",
    "\n",
    "# average_shape_full = hawk3d.default_markers\n",
    "\n",
    "# Repeat it for the number of frames\n",
    "average_shape = np.repeat(average_shape, right_dynamicsMode.shape[0], axis=0)\n",
    "\n",
    "right_dynamicsMode = right_dynamicsMode + average_shape\n",
    "\n",
    "animation = HawkAnimate.animate(right_dynamicsMode,az=20,colour=\"darkmagenta\")\n",
    "\n",
    "\n",
    "\n",
    "\n",
    "\n",
    "# plt.rcParams['animation.convert_path'] = '/opt/homebrew/bin/magick'\n",
    "# animation.save('../gif_results/combined_side.gif', writer='imagemagick', fps=5,dpi=200)\n",
    "\n",
    "\n",
    "\n",
    "\n",
    "\n",
    "\n",
    "# animation = HawkAnimate.animate(dynamicsMode,az=40)\n",
    "\n"
   ]
  },
  {
   "cell_type": "code",
   "execution_count": null,
   "metadata": {},
   "outputs": [],
   "source": []
  },
  {
   "cell_type": "markdown",
   "metadata": {},
   "source": [
    "## Just plot the wingbeat from the data\n"
   ]
  },
  {
   "cell_type": "code",
   "execution_count": null,
   "metadata": {},
   "outputs": [],
   "source": [
    "plt.close('all')\n",
    "single_wingbeat = np.load(\"../data/dynamics/wingbeat_measurement.npy\")\n",
    "\n",
    "single_wingbeat = single_wingbeat.T\n",
    "print(single_wingbeat.shape)\n",
    "\n",
    "# Grab every other starting with the second\n",
    "right_single_wingbeat = single_wingbeat[:,1::2]\n",
    "\n",
    "\n",
    "# Reshape to be [-1,4,3]\n",
    "right_single_wingbeat = right_single_wingbeat.reshape(-1,4,3)\n",
    "single_wingbeat = single_wingbeat.reshape(-1,8,3)\n",
    "print(right_single_wingbeat.shape)\n",
    "\n",
    "# Reverse the x axis for every other starting with the first\n",
    "single_wingbeat[:,0::2,0] = -single_wingbeat[:,0::2,0]\n",
    "\n",
    "\n",
    "# Add it to the average shape\n",
    "average_shape = hawk3d.default_right_markers\n",
    "average_shape_full = hawk3d.default_markers\n",
    "\n",
    "# Repeat it for the number of frames\n",
    "average_shape = np.repeat(average_shape, right_single_wingbeat.shape[0], axis=0)\n",
    "average_shape_full = np.repeat(average_shape_full, single_wingbeat.shape[0], axis=0)\n",
    "\n",
    "right_single_wingbeat = right_single_wingbeat + average_shape\n",
    "single_wingbeat = single_wingbeat + average_shape_full\n",
    "\n",
    "# Stack the array multiple times, such that it runs all the way through and then restarts\n",
    "# I can't use np.repeat as that will just repeat the same frame multiple times\n",
    "# Instead I need to stack the array multiple times\n",
    "\n",
    "\n",
    "# animation = HawkAnimate.animate(right_single_wingbeat,az=40,colour='firebrick')\n",
    "animation = HawkAnimate.animate(single_wingbeat,az=20,colour='firebrick')\n",
    "\n",
    "plt.rcParams['animation.convert_path'] = '/opt/homebrew/bin/magick'\n",
    "animation.save('../gif_results/actual_data_wingbeat_side.gif', writer='imagemagick', fps=10,dpi=200)\n",
    "\n",
    "\n",
    "\n",
    "\n"
   ]
  },
  {
   "cell_type": "code",
   "execution_count": null,
   "metadata": {},
   "outputs": [],
   "source": [
    "print(dynamicsMode)"
   ]
  }
 ],
 "metadata": {
  "kernelspec": {
   "display_name": "venv",
   "language": "python",
   "name": "python3"
  },
  "language_info": {
   "codemirror_mode": {
    "name": "ipython",
    "version": 3
   },
   "file_extension": ".py",
   "mimetype": "text/x-python",
   "name": "python",
   "nbconvert_exporter": "python",
   "pygments_lexer": "ipython3",
   "version": "3.11.6"
  }
 },
 "nbformat": 4,
 "nbformat_minor": 2
}
