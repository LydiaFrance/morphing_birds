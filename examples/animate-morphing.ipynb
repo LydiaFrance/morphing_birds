{
 "cells": [
  {
   "cell_type": "code",
   "execution_count": 2,
   "metadata": {},
   "outputs": [],
   "source": [
    "%load_ext autoreload\n",
    "%autoreload 2\n",
    "\n",
    "%matplotlib widget\n",
    "\n",
    "%config InlineBackend.figure_format='svg'\n",
    "\n",
    "\n",
    "import numpy as np\n",
    "from matplotlib import pyplot as plt\n",
    "\n",
    "from morphing_birds import Hawk3D, plot, interactive_plot, plot_multiple, animate, animate_compare, plot_plotly, create_dash_app\n",
    "\n",
    "np.set_printoptions(suppress=True, precision=3)\n",
    "\n"
   ]
  },
  {
   "cell_type": "markdown",
   "metadata": {},
   "source": [
    "# Load the Average Hawk Shape\n"
   ]
  },
  {
   "cell_type": "code",
   "execution_count": 3,
   "metadata": {},
   "outputs": [
    {
     "data": {
      "application/vnd.jupyter.widget-view+json": {
       "model_id": "23c14e6419d34e4ba77e9738db73a650",
       "version_major": 2,
       "version_minor": 0
      },
      "text/plain": [
       "IntSlider(value=60, description='azimuth', max=90, min=-90, step=5)"
      ]
     },
     "metadata": {},
     "output_type": "display_data"
    },
    {
     "data": {
      "application/vnd.jupyter.widget-view+json": {
       "model_id": "4fa98b55dce04f87bcd082bab8c329fa",
       "version_major": 2,
       "version_minor": 0
      },
      "text/plain": [
       "IntSlider(value=20, description='elevation', max=90, min=-15, step=5)"
      ]
     },
     "metadata": {},
     "output_type": "display_data"
    },
    {
     "data": {
      "application/vnd.jupyter.widget-view+json": {
       "model_id": "346792a39673422b825f2b04a65d3e16",
       "version_major": 2,
       "version_minor": 0
      },
      "text/plain": [
       "Output()"
      ]
     },
     "metadata": {},
     "output_type": "display_data"
    }
   ],
   "source": [
    "hawk3d = Hawk3D(\"../data/mean_hawk_shape.csv\")\n",
    "\n",
    "interactive_plot(hawk3d)"
   ]
  },
  {
   "cell_type": "code",
   "execution_count": 3,
   "metadata": {},
   "outputs": [
    {
     "data": {
      "application/vnd.plotly.v1+json": {
       "config": {
        "plotlyServerURL": "https://plot.ly"
       },
       "data": [
        {
         "color": "lightblue",
         "hoverinfo": "none",
         "opacity": 0.5,
         "type": "mesh3d",
         "x": [
          -0.29767160634814,
          -0.224248194762917,
          -0.184802997754156
         ],
         "y": [
          0.0376967712355156,
          0.0732943233198015,
          -0.0497719957293513
         ],
         "z": [
          -0.0420589605765871,
          -0.0547817356136084,
          -0.0106398041827101
         ]
        },
        {
         "hoverinfo": "none",
         "line": {
          "color": "grey",
          "width": 1.5
         },
         "mode": "lines",
         "name": "",
         "type": "scatter3d",
         "x": [
          -0.29767160634814,
          -0.224248194762917,
          -0.184802997754156,
          -0.29767160634814
         ],
         "y": [
          0.0376967712355156,
          0.0732943233198015,
          -0.0497719957293513,
          0.0376967712355156
         ],
         "z": [
          -0.0420589605765871,
          -0.0547817356136084,
          -0.0106398041827101,
          -0.0420589605765871
         ]
        },
        {
         "color": "lightblue",
         "hoverinfo": "none",
         "opacity": 0.5,
         "type": "mesh3d",
         "x": [
          0.29767160634814,
          0.224248194762917,
          0.184802997754156
         ],
         "y": [
          0.0376967712355156,
          0.0732943233198015,
          -0.0497719957293513
         ],
         "z": [
          -0.0420589605765871,
          -0.0547817356136084,
          -0.0106398041827101
         ]
        },
        {
         "hoverinfo": "none",
         "line": {
          "color": "grey",
          "width": 1.5
         },
         "mode": "lines",
         "name": "",
         "type": "scatter3d",
         "x": [
          0.29767160634814,
          0.224248194762917,
          0.184802997754156,
          0.29767160634814
         ],
         "y": [
          0.0376967712355156,
          0.0732943233198015,
          -0.0497719957293513,
          0.0376967712355156
         ],
         "z": [
          -0.0420589605765871,
          -0.0547817356136084,
          -0.0106398041827101,
          -0.0420589605765871
         ]
        },
        {
         "color": "grey",
         "hoverinfo": "none",
         "opacity": 0.3,
         "type": "mesh3d",
         "x": [
          -0.224248194762917,
          -0.184802997754156,
          -0.05,
          -0.06
         ],
         "y": [
          0.0732943233198015,
          -0.0497719957293513,
          -0.08,
          0.06
         ],
         "z": [
          -0.0547817356136084,
          -0.0106398041827101,
          -0.005,
          -0.045
         ]
        },
        {
         "hoverinfo": "none",
         "line": {
          "color": "grey",
          "width": 1.5
         },
         "mode": "lines",
         "name": "",
         "type": "scatter3d",
         "x": [
          -0.224248194762917,
          -0.184802997754156,
          -0.05,
          -0.06,
          -0.224248194762917
         ],
         "y": [
          0.0732943233198015,
          -0.0497719957293513,
          -0.08,
          0.06,
          0.0732943233198015
         ],
         "z": [
          -0.0547817356136084,
          -0.0106398041827101,
          -0.005,
          -0.045,
          -0.0547817356136084
         ]
        },
        {
         "color": "grey",
         "hoverinfo": "none",
         "opacity": 0.3,
         "type": "mesh3d",
         "x": [
          0.224248194762917,
          0.184802997754156,
          0.05,
          0.06
         ],
         "y": [
          0.0732943233198015,
          -0.0497719957293513,
          -0.08,
          0.06
         ],
         "z": [
          -0.0547817356136084,
          -0.0106398041827101,
          -0.005,
          -0.045
         ]
        },
        {
         "hoverinfo": "none",
         "line": {
          "color": "grey",
          "width": 1.5
         },
         "mode": "lines",
         "name": "",
         "type": "scatter3d",
         "x": [
          0.224248194762917,
          0.184802997754156,
          0.05,
          0.06,
          0.224248194762917
         ],
         "y": [
          0.0732943233198015,
          -0.0497719957293513,
          -0.08,
          0.06,
          0.0732943233198015
         ],
         "z": [
          -0.0547817356136084,
          -0.0106398041827101,
          -0.005,
          -0.045,
          -0.0547817356136084
         ]
        },
        {
         "color": "grey",
         "hoverinfo": "none",
         "opacity": 0.3,
         "type": "mesh3d",
         "x": [
          0.06,
          -0.06,
          -0.05,
          0.05
         ],
         "y": [
          0.06,
          0.06,
          -0.08,
          -0.08
         ],
         "z": [
          -0.045,
          -0.045,
          -0.005,
          -0.005
         ]
        },
        {
         "hoverinfo": "none",
         "line": {
          "color": "grey",
          "width": 1.5
         },
         "mode": "lines",
         "name": "",
         "type": "scatter3d",
         "x": [
          0.06,
          -0.06,
          -0.05,
          0.05,
          0.06
         ],
         "y": [
          0.06,
          0.06,
          -0.08,
          -0.08,
          0.06
         ],
         "z": [
          -0.045,
          -0.045,
          -0.005,
          -0.005,
          -0.045
         ]
        },
        {
         "color": "grey",
         "hoverinfo": "none",
         "opacity": 0.3,
         "type": "mesh3d",
         "x": [
          0.06,
          0.0000374316291197987,
          -0.06
         ],
         "y": [
          0.06,
          0.0705002454597361,
          0.06
         ],
         "z": [
          -0.045,
          -0.0617023699187913,
          -0.045
         ]
        },
        {
         "hoverinfo": "none",
         "line": {
          "color": "grey",
          "width": 1.5
         },
         "mode": "lines",
         "name": "",
         "type": "scatter3d",
         "x": [
          0.06,
          0.0000374316291197987,
          -0.06,
          0.06
         ],
         "y": [
          0.06,
          0.0705002454597361,
          0.06,
          0.06
         ],
         "z": [
          -0.045,
          -0.0617023699187913,
          -0.045,
          -0.045
         ]
        },
        {
         "color": "lightblue",
         "hoverinfo": "none",
         "opacity": 0.5,
         "type": "mesh3d",
         "x": [
          0.124024651998862,
          -0.124024651998862,
          -0.05,
          0.05
         ],
         "y": [
          -0.146003933491436,
          -0.146003933491436,
          -0.08,
          -0.08
         ],
         "z": [
          -0.0157969674341363,
          -0.0157969674341363,
          -0.005,
          -0.005
         ]
        },
        {
         "hoverinfo": "none",
         "line": {
          "color": "grey",
          "width": 1.5
         },
         "mode": "lines",
         "name": "",
         "type": "scatter3d",
         "x": [
          0.124024651998862,
          -0.124024651998862,
          -0.05,
          0.05,
          0.124024651998862
         ],
         "y": [
          -0.146003933491436,
          -0.146003933491436,
          -0.08,
          -0.08,
          -0.146003933491436
         ],
         "z": [
          -0.0157969674341363,
          -0.0157969674341363,
          -0.005,
          -0.005,
          -0.0157969674341363
         ]
        },
        {
         "hoverinfo": "none",
         "marker": {
          "color": "lightblue",
          "opacity": 1,
          "size": 2.5
         },
         "mode": "markers",
         "type": "scatter3d",
         "x": [
          -0.29767160634814,
          0.29767160634814,
          -0.224248194762917,
          0.224248194762917,
          -0.184802997754156,
          0.184802997754156,
          -0.124024651998862,
          0.124024651998862
         ],
         "y": [
          0.0376967712355156,
          0.0376967712355156,
          0.0732943233198015,
          0.0732943233198015,
          -0.0497719957293513,
          -0.0497719957293513,
          -0.146003933491436,
          -0.146003933491436
         ],
         "z": [
          -0.0420589605765871,
          -0.0420589605765871,
          -0.0547817356136084,
          -0.0547817356136084,
          -0.0106398041827101,
          -0.0106398041827101,
          -0.0157969674341363,
          -0.0157969674341363
         ]
        }
       ],
       "layout": {
        "margin": {
         "b": 10,
         "l": 10,
         "r": 20,
         "t": 10
        },
        "scene": {
         "aspectmode": "cube",
         "xaxis": {
          "backgroundcolor": "white",
          "dtick": 0.1,
          "gridcolor": "grey",
          "gridwidth": 0.5,
          "range": [
           -0.35,
           0.35
          ],
          "showbackground": true,
          "tickvals": [
           -0.2,
           0,
           0.2
          ],
          "zerolinecolor": "grey"
         },
         "yaxis": {
          "backgroundcolor": "white",
          "dtick": 0.1,
          "gridcolor": "grey",
          "gridwidth": 0.5,
          "range": [
           -0.35,
           0.35
          ],
          "showbackground": true,
          "tickvals": [
           -0.2,
           0,
           0.2
          ],
          "zerolinecolor": "grey"
         },
         "zaxis": {
          "backgroundcolor": "rgba(10, 10, 10, 0.1)",
          "dtick": 0.1,
          "gridcolor": "grey",
          "gridwidth": 0.5,
          "range": [
           -0.35,
           0.35
          ],
          "showbackground": true,
          "tickvals": [
           -0.2,
           0,
           0.2
          ],
          "zerolinecolor": "grey"
         }
        },
        "showlegend": false,
        "template": {
         "data": {
          "bar": [
           {
            "error_x": {
             "color": "#2a3f5f"
            },
            "error_y": {
             "color": "#2a3f5f"
            },
            "marker": {
             "line": {
              "color": "#E5ECF6",
              "width": 0.5
             },
             "pattern": {
              "fillmode": "overlay",
              "size": 10,
              "solidity": 0.2
             }
            },
            "type": "bar"
           }
          ],
          "barpolar": [
           {
            "marker": {
             "line": {
              "color": "#E5ECF6",
              "width": 0.5
             },
             "pattern": {
              "fillmode": "overlay",
              "size": 10,
              "solidity": 0.2
             }
            },
            "type": "barpolar"
           }
          ],
          "carpet": [
           {
            "aaxis": {
             "endlinecolor": "#2a3f5f",
             "gridcolor": "white",
             "linecolor": "white",
             "minorgridcolor": "white",
             "startlinecolor": "#2a3f5f"
            },
            "baxis": {
             "endlinecolor": "#2a3f5f",
             "gridcolor": "white",
             "linecolor": "white",
             "minorgridcolor": "white",
             "startlinecolor": "#2a3f5f"
            },
            "type": "carpet"
           }
          ],
          "choropleth": [
           {
            "colorbar": {
             "outlinewidth": 0,
             "ticks": ""
            },
            "type": "choropleth"
           }
          ],
          "contour": [
           {
            "colorbar": {
             "outlinewidth": 0,
             "ticks": ""
            },
            "colorscale": [
             [
              0,
              "#0d0887"
             ],
             [
              0.1111111111111111,
              "#46039f"
             ],
             [
              0.2222222222222222,
              "#7201a8"
             ],
             [
              0.3333333333333333,
              "#9c179e"
             ],
             [
              0.4444444444444444,
              "#bd3786"
             ],
             [
              0.5555555555555556,
              "#d8576b"
             ],
             [
              0.6666666666666666,
              "#ed7953"
             ],
             [
              0.7777777777777778,
              "#fb9f3a"
             ],
             [
              0.8888888888888888,
              "#fdca26"
             ],
             [
              1,
              "#f0f921"
             ]
            ],
            "type": "contour"
           }
          ],
          "contourcarpet": [
           {
            "colorbar": {
             "outlinewidth": 0,
             "ticks": ""
            },
            "type": "contourcarpet"
           }
          ],
          "heatmap": [
           {
            "colorbar": {
             "outlinewidth": 0,
             "ticks": ""
            },
            "colorscale": [
             [
              0,
              "#0d0887"
             ],
             [
              0.1111111111111111,
              "#46039f"
             ],
             [
              0.2222222222222222,
              "#7201a8"
             ],
             [
              0.3333333333333333,
              "#9c179e"
             ],
             [
              0.4444444444444444,
              "#bd3786"
             ],
             [
              0.5555555555555556,
              "#d8576b"
             ],
             [
              0.6666666666666666,
              "#ed7953"
             ],
             [
              0.7777777777777778,
              "#fb9f3a"
             ],
             [
              0.8888888888888888,
              "#fdca26"
             ],
             [
              1,
              "#f0f921"
             ]
            ],
            "type": "heatmap"
           }
          ],
          "heatmapgl": [
           {
            "colorbar": {
             "outlinewidth": 0,
             "ticks": ""
            },
            "colorscale": [
             [
              0,
              "#0d0887"
             ],
             [
              0.1111111111111111,
              "#46039f"
             ],
             [
              0.2222222222222222,
              "#7201a8"
             ],
             [
              0.3333333333333333,
              "#9c179e"
             ],
             [
              0.4444444444444444,
              "#bd3786"
             ],
             [
              0.5555555555555556,
              "#d8576b"
             ],
             [
              0.6666666666666666,
              "#ed7953"
             ],
             [
              0.7777777777777778,
              "#fb9f3a"
             ],
             [
              0.8888888888888888,
              "#fdca26"
             ],
             [
              1,
              "#f0f921"
             ]
            ],
            "type": "heatmapgl"
           }
          ],
          "histogram": [
           {
            "marker": {
             "pattern": {
              "fillmode": "overlay",
              "size": 10,
              "solidity": 0.2
             }
            },
            "type": "histogram"
           }
          ],
          "histogram2d": [
           {
            "colorbar": {
             "outlinewidth": 0,
             "ticks": ""
            },
            "colorscale": [
             [
              0,
              "#0d0887"
             ],
             [
              0.1111111111111111,
              "#46039f"
             ],
             [
              0.2222222222222222,
              "#7201a8"
             ],
             [
              0.3333333333333333,
              "#9c179e"
             ],
             [
              0.4444444444444444,
              "#bd3786"
             ],
             [
              0.5555555555555556,
              "#d8576b"
             ],
             [
              0.6666666666666666,
              "#ed7953"
             ],
             [
              0.7777777777777778,
              "#fb9f3a"
             ],
             [
              0.8888888888888888,
              "#fdca26"
             ],
             [
              1,
              "#f0f921"
             ]
            ],
            "type": "histogram2d"
           }
          ],
          "histogram2dcontour": [
           {
            "colorbar": {
             "outlinewidth": 0,
             "ticks": ""
            },
            "colorscale": [
             [
              0,
              "#0d0887"
             ],
             [
              0.1111111111111111,
              "#46039f"
             ],
             [
              0.2222222222222222,
              "#7201a8"
             ],
             [
              0.3333333333333333,
              "#9c179e"
             ],
             [
              0.4444444444444444,
              "#bd3786"
             ],
             [
              0.5555555555555556,
              "#d8576b"
             ],
             [
              0.6666666666666666,
              "#ed7953"
             ],
             [
              0.7777777777777778,
              "#fb9f3a"
             ],
             [
              0.8888888888888888,
              "#fdca26"
             ],
             [
              1,
              "#f0f921"
             ]
            ],
            "type": "histogram2dcontour"
           }
          ],
          "mesh3d": [
           {
            "colorbar": {
             "outlinewidth": 0,
             "ticks": ""
            },
            "type": "mesh3d"
           }
          ],
          "parcoords": [
           {
            "line": {
             "colorbar": {
              "outlinewidth": 0,
              "ticks": ""
             }
            },
            "type": "parcoords"
           }
          ],
          "pie": [
           {
            "automargin": true,
            "type": "pie"
           }
          ],
          "scatter": [
           {
            "fillpattern": {
             "fillmode": "overlay",
             "size": 10,
             "solidity": 0.2
            },
            "type": "scatter"
           }
          ],
          "scatter3d": [
           {
            "line": {
             "colorbar": {
              "outlinewidth": 0,
              "ticks": ""
             }
            },
            "marker": {
             "colorbar": {
              "outlinewidth": 0,
              "ticks": ""
             }
            },
            "type": "scatter3d"
           }
          ],
          "scattercarpet": [
           {
            "marker": {
             "colorbar": {
              "outlinewidth": 0,
              "ticks": ""
             }
            },
            "type": "scattercarpet"
           }
          ],
          "scattergeo": [
           {
            "marker": {
             "colorbar": {
              "outlinewidth": 0,
              "ticks": ""
             }
            },
            "type": "scattergeo"
           }
          ],
          "scattergl": [
           {
            "marker": {
             "colorbar": {
              "outlinewidth": 0,
              "ticks": ""
             }
            },
            "type": "scattergl"
           }
          ],
          "scattermapbox": [
           {
            "marker": {
             "colorbar": {
              "outlinewidth": 0,
              "ticks": ""
             }
            },
            "type": "scattermapbox"
           }
          ],
          "scatterpolar": [
           {
            "marker": {
             "colorbar": {
              "outlinewidth": 0,
              "ticks": ""
             }
            },
            "type": "scatterpolar"
           }
          ],
          "scatterpolargl": [
           {
            "marker": {
             "colorbar": {
              "outlinewidth": 0,
              "ticks": ""
             }
            },
            "type": "scatterpolargl"
           }
          ],
          "scatterternary": [
           {
            "marker": {
             "colorbar": {
              "outlinewidth": 0,
              "ticks": ""
             }
            },
            "type": "scatterternary"
           }
          ],
          "surface": [
           {
            "colorbar": {
             "outlinewidth": 0,
             "ticks": ""
            },
            "colorscale": [
             [
              0,
              "#0d0887"
             ],
             [
              0.1111111111111111,
              "#46039f"
             ],
             [
              0.2222222222222222,
              "#7201a8"
             ],
             [
              0.3333333333333333,
              "#9c179e"
             ],
             [
              0.4444444444444444,
              "#bd3786"
             ],
             [
              0.5555555555555556,
              "#d8576b"
             ],
             [
              0.6666666666666666,
              "#ed7953"
             ],
             [
              0.7777777777777778,
              "#fb9f3a"
             ],
             [
              0.8888888888888888,
              "#fdca26"
             ],
             [
              1,
              "#f0f921"
             ]
            ],
            "type": "surface"
           }
          ],
          "table": [
           {
            "cells": {
             "fill": {
              "color": "#EBF0F8"
             },
             "line": {
              "color": "white"
             }
            },
            "header": {
             "fill": {
              "color": "#C8D4E3"
             },
             "line": {
              "color": "white"
             }
            },
            "type": "table"
           }
          ]
         },
         "layout": {
          "annotationdefaults": {
           "arrowcolor": "#2a3f5f",
           "arrowhead": 0,
           "arrowwidth": 1
          },
          "autotypenumbers": "strict",
          "coloraxis": {
           "colorbar": {
            "outlinewidth": 0,
            "ticks": ""
           }
          },
          "colorscale": {
           "diverging": [
            [
             0,
             "#8e0152"
            ],
            [
             0.1,
             "#c51b7d"
            ],
            [
             0.2,
             "#de77ae"
            ],
            [
             0.3,
             "#f1b6da"
            ],
            [
             0.4,
             "#fde0ef"
            ],
            [
             0.5,
             "#f7f7f7"
            ],
            [
             0.6,
             "#e6f5d0"
            ],
            [
             0.7,
             "#b8e186"
            ],
            [
             0.8,
             "#7fbc41"
            ],
            [
             0.9,
             "#4d9221"
            ],
            [
             1,
             "#276419"
            ]
           ],
           "sequential": [
            [
             0,
             "#0d0887"
            ],
            [
             0.1111111111111111,
             "#46039f"
            ],
            [
             0.2222222222222222,
             "#7201a8"
            ],
            [
             0.3333333333333333,
             "#9c179e"
            ],
            [
             0.4444444444444444,
             "#bd3786"
            ],
            [
             0.5555555555555556,
             "#d8576b"
            ],
            [
             0.6666666666666666,
             "#ed7953"
            ],
            [
             0.7777777777777778,
             "#fb9f3a"
            ],
            [
             0.8888888888888888,
             "#fdca26"
            ],
            [
             1,
             "#f0f921"
            ]
           ],
           "sequentialminus": [
            [
             0,
             "#0d0887"
            ],
            [
             0.1111111111111111,
             "#46039f"
            ],
            [
             0.2222222222222222,
             "#7201a8"
            ],
            [
             0.3333333333333333,
             "#9c179e"
            ],
            [
             0.4444444444444444,
             "#bd3786"
            ],
            [
             0.5555555555555556,
             "#d8576b"
            ],
            [
             0.6666666666666666,
             "#ed7953"
            ],
            [
             0.7777777777777778,
             "#fb9f3a"
            ],
            [
             0.8888888888888888,
             "#fdca26"
            ],
            [
             1,
             "#f0f921"
            ]
           ]
          },
          "colorway": [
           "#636efa",
           "#EF553B",
           "#00cc96",
           "#ab63fa",
           "#FFA15A",
           "#19d3f3",
           "#FF6692",
           "#B6E880",
           "#FF97FF",
           "#FECB52"
          ],
          "font": {
           "color": "#2a3f5f"
          },
          "geo": {
           "bgcolor": "white",
           "lakecolor": "white",
           "landcolor": "#E5ECF6",
           "showlakes": true,
           "showland": true,
           "subunitcolor": "white"
          },
          "hoverlabel": {
           "align": "left"
          },
          "hovermode": "closest",
          "mapbox": {
           "style": "light"
          },
          "paper_bgcolor": "white",
          "plot_bgcolor": "#E5ECF6",
          "polar": {
           "angularaxis": {
            "gridcolor": "white",
            "linecolor": "white",
            "ticks": ""
           },
           "bgcolor": "#E5ECF6",
           "radialaxis": {
            "gridcolor": "white",
            "linecolor": "white",
            "ticks": ""
           }
          },
          "scene": {
           "xaxis": {
            "backgroundcolor": "#E5ECF6",
            "gridcolor": "white",
            "gridwidth": 2,
            "linecolor": "white",
            "showbackground": true,
            "ticks": "",
            "zerolinecolor": "white"
           },
           "yaxis": {
            "backgroundcolor": "#E5ECF6",
            "gridcolor": "white",
            "gridwidth": 2,
            "linecolor": "white",
            "showbackground": true,
            "ticks": "",
            "zerolinecolor": "white"
           },
           "zaxis": {
            "backgroundcolor": "#E5ECF6",
            "gridcolor": "white",
            "gridwidth": 2,
            "linecolor": "white",
            "showbackground": true,
            "ticks": "",
            "zerolinecolor": "white"
           }
          },
          "shapedefaults": {
           "line": {
            "color": "#2a3f5f"
           }
          },
          "ternary": {
           "aaxis": {
            "gridcolor": "white",
            "linecolor": "white",
            "ticks": ""
           },
           "baxis": {
            "gridcolor": "white",
            "linecolor": "white",
            "ticks": ""
           },
           "bgcolor": "#E5ECF6",
           "caxis": {
            "gridcolor": "white",
            "linecolor": "white",
            "ticks": ""
           }
          },
          "title": {
           "x": 0.05
          },
          "xaxis": {
           "automargin": true,
           "gridcolor": "white",
           "linecolor": "white",
           "ticks": "",
           "title": {
            "standoff": 15
           },
           "zerolinecolor": "white",
           "zerolinewidth": 2
          },
          "yaxis": {
           "automargin": true,
           "gridcolor": "white",
           "linecolor": "white",
           "ticks": "",
           "title": {
            "standoff": 15
           },
           "zerolinecolor": "white",
           "zerolinewidth": 2
          }
         }
        }
       }
      }
     },
     "metadata": {},
     "output_type": "display_data"
    }
   ],
   "source": [
    "plot_plotly(hawk3d)"
   ]
  },
  {
   "cell_type": "code",
   "execution_count": 5,
   "metadata": {},
   "outputs": [
    {
     "data": {
      "text/html": [
       "\n",
       "        <iframe\n",
       "            width=\"100%\"\n",
       "            height=\"650\"\n",
       "            src=\"http://127.0.0.1:8050/\"\n",
       "            frameborder=\"0\"\n",
       "            allowfullscreen\n",
       "            \n",
       "        ></iframe>\n",
       "        "
      ],
      "text/plain": [
       "<IPython.lib.display.IFrame at 0x121644350>"
      ]
     },
     "metadata": {},
     "output_type": "display_data"
    }
   ],
   "source": [
    "# Assume your function is accessible from here, either by import or direct definition\n",
    "app = create_dash_app()\n",
    "app.run_server(mode='inline')  # 'inline' will embed it within the Jupyter notebook"
   ]
  },
  {
   "cell_type": "markdown",
   "metadata": {},
   "source": [
    "## Alter the Body Pitch"
   ]
  },
  {
   "cell_type": "code",
   "execution_count": null,
   "metadata": {},
   "outputs": [],
   "source": [
    "hawk3d.restore_keypoints_to_average()\n",
    "hawk3d.reset_transformation()\n",
    "hawk3d.transform_keypoints(bodypitch=90, yaw=0)\n",
    "interactive_plot(hawk3d, az=90, el=0)"
   ]
  },
  {
   "cell_type": "markdown",
   "metadata": {},
   "source": [
    "## Animate Random Motion"
   ]
  },
  {
   "cell_type": "code",
   "execution_count": null,
   "metadata": {},
   "outputs": [],
   "source": [
    "%matplotlib widget\n",
    "# Make a set of keypoints by adding some random noise to the original keypoints\n",
    "hawk3d.reset_transformation()\n",
    "hawk3d.restore_keypoints_to_average()\n",
    "fake_keypoints = np.random.normal(0, 0.01, (100,8,3)) + hawk3d.markers\n",
    "\n",
    "\n",
    "# Animate the random motion\n",
    "animate(hawk3d, fake_keypoints, rotation_type=\"static\")\n",
    "\n",
    "# Can also try dynamic rotation\n",
    "# animate(hawk3d, fake_keypoints, rotation_type=\"dynamic\")\n"
   ]
  },
  {
   "cell_type": "code",
   "execution_count": null,
   "metadata": {},
   "outputs": [],
   "source": [
    "hawk3d.restore_keypoints_to_average()\n",
    "hawk3d.reset_transformation()\n",
    "\n",
    "interactive_plot(hawk3d,az=90, el=0)"
   ]
  },
  {
   "cell_type": "markdown",
   "metadata": {},
   "source": [
    "## Animate two on top of each other"
   ]
  },
  {
   "cell_type": "code",
   "execution_count": null,
   "metadata": {},
   "outputs": [],
   "source": [
    "hawk3d.reset_transformation()\n",
    "fake_keypoints = np.random.normal(0, 0.01, (100,8,3)) + hawk3d.markers\n",
    "hawk3d.reset_transformation()\n",
    "compare_fake_keypoints = np.random.normal(0, 0.01, (100,8,3)) + hawk3d.markers\n",
    "\n",
    "\n",
    "# Animate the random motion\n",
    "animate_compare(hawk3d, [fake_keypoints, compare_fake_keypoints], rotation_type=\"static\")"
   ]
  },
  {
   "cell_type": "code",
   "execution_count": null,
   "metadata": {},
   "outputs": [],
   "source": [
    "plt.close(\"all\")"
   ]
  },
  {
   "cell_type": "code",
   "execution_count": null,
   "metadata": {},
   "outputs": [],
   "source": [
    "# from IPython.display import HTML\n",
    "\n",
    "hawk3d = Hawk3D(\"../data/mean_hawk_shape.csv\")\n",
    "hawk3d.restore_keypoints_to_average()\n",
    "hawk3d.reset_transformation()\n",
    "colour_list = [\"red\", \"blue\", \"green\", \"orange\", \"purple\", \"cyan\", \"magenta\", \"yellow\", \"black\", \"grey\", \"pink\"]\n",
    "cropped_image = plot_multiple(hawk3d,fake_keypoints, 9, cut_off=0, el=10, rot=-30, colour_list=colour_list)\n",
    "display(cropped_image)"
   ]
  }
 ],
 "metadata": {
  "kernelspec": {
   "display_name": "venv",
   "language": "python",
   "name": "python3"
  },
  "language_info": {
   "codemirror_mode": {
    "name": "ipython",
    "version": 3
   },
   "file_extension": ".py",
   "mimetype": "text/x-python",
   "name": "python",
   "nbconvert_exporter": "python",
   "pygments_lexer": "ipython3",
   "version": "3.11.6"
  }
 },
 "nbformat": 4,
 "nbformat_minor": 2
}
